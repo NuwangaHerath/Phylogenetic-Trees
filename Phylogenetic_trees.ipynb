{
  "nbformat": 4,
  "nbformat_minor": 0,
  "metadata": {
    "colab": {
      "name": "Phylogenetic trees.ipynb",
      "provenance": [],
      "collapsed_sections": [],
      "mount_file_id": "1UjxDlyYGhXnBkz35DZrCjGc-4PFysvu0",
      "authorship_tag": "ABX9TyMlPGcLX1d0Zc2/CgrIZNYP",
      "include_colab_link": true
    },
    "kernelspec": {
      "name": "python3",
      "display_name": "Python 3"
    },
    "language_info": {
      "name": "python"
    }
  },
  "cells": [
    {
      "cell_type": "markdown",
      "metadata": {
        "id": "view-in-github",
        "colab_type": "text"
      },
      "source": [
        "<a href=\"https://colab.research.google.com/github/rukmals/-Phylogenetic-Trees/blob/main/Phylogenetic_trees.ipynb\" target=\"_parent\"><img src=\"https://colab.research.google.com/assets/colab-badge.svg\" alt=\"Open In Colab\"/></a>"
      ]
    },
    {
      "cell_type": "code",
      "execution_count": 1,
      "metadata": {
        "id": "-R6OdOPBVFj-"
      },
      "outputs": [],
      "source": [
        "import pandas as pd\n",
        "df = pd.read_excel('/content/drive/MyDrive/Bioinformatics/protein_tables.xlsx', sheet_name = None) "
      ]
    },
    {
      "cell_type": "code",
      "source": [
        "df.keys()"
      ],
      "metadata": {
        "colab": {
          "base_uri": "https://localhost:8080/"
        },
        "id": "eLaSKcj7WrIG",
        "outputId": "fff9e040-d20f-4674-ff7c-c0cb0fbd48c3"
      },
      "execution_count": null,
      "outputs": [
        {
          "output_type": "execute_result",
          "data": {
            "text/plain": [
              "dict_keys(['NZ_CP014692.1 ', 'NZ_CP023657.1', 'NZ_CP022699.1', 'NZ_CP014687.1', 'NZ_LN606600.1', 'NZ_CP011120.1', 'NZ_CP015164.1', 'NZ_CP015168.1', 'NZ_CP021524.1', 'NZ_CP022374.1', 'NZ_AP018515.1', 'NZ_CP023189.1', 'NC_017100.1', 'NC_017121.1', 'NC_017125.1', 'NC_017146.1', 'NZ_LN609302.1', 'NC_017111.1', 'NC_017150.1', 'NC_017108.1', 'NZ_AP014881.1'])"
            ]
          },
          "metadata": {},
          "execution_count": 4
        }
      ]
    },
    {
      "cell_type": "code",
      "source": [
        "len(df.keys())"
      ],
      "metadata": {
        "colab": {
          "base_uri": "https://localhost:8080/"
        },
        "id": "hESxIiQKWwYv",
        "outputId": "805d503b-028b-487f-e3be-eca58c49cb17"
      },
      "execution_count": null,
      "outputs": [
        {
          "output_type": "execute_result",
          "data": {
            "text/plain": [
              "21"
            ]
          },
          "metadata": {},
          "execution_count": 5
        }
      ]
    },
    {
      "cell_type": "code",
      "source": [
        "df['NZ_CP014692.1 ']['Protein name']"
      ],
      "metadata": {
        "colab": {
          "base_uri": "https://localhost:8080/"
        },
        "id": "dVb7htk9XSk2",
        "outputId": "c8b84586-1d32-41fd-8d27-fcb8e0851d19"
      },
      "execution_count": null,
      "outputs": [
        {
          "output_type": "execute_result",
          "data": {
            "text/plain": [
              "0        nucleoside-diphosphate sugar epimerase\n",
              "1                           glycosyltransferase\n",
              "2       lipopolysaccharide biosynthesis protein\n",
              "3                          hypothetical protein\n",
              "4        twin-arginine translocase subunit TatB\n",
              "                         ...                   \n",
              "3257       AarF/ABC1/UbiB kinase family protein\n",
              "3258               M3 family oligoendopeptidase\n",
              "3259                        elongation factor 4\n",
              "3260    lipopolysaccharide biosynthesis protein\n",
              "3261         5,6-dimethylbenzimidazole synthase\n",
              "Name: Protein name, Length: 3262, dtype: object"
            ]
          },
          "metadata": {},
          "execution_count": 7
        }
      ]
    },
    {
      "cell_type": "code",
      "source": [
        "protein_list = [\"TonB-dependent receptor\", \"LysR family transcriptional regulator\", \"helix-turn-helix domain-containing protein\", \"efflux transporter outer membrane subunit\"]\n",
        "sheet_list = df.keys()\n",
        "\n",
        "common_bacteria_set = []\n",
        "for sheet_name in sheet_list:\n",
        "  sheet = df[sheet_name]\n",
        "  protein_names = list(sheet['Protein name'])\n",
        "  #print(sheet_name)\n",
        "  count = 0\n",
        "  #index_list = []\n",
        "  start_list = []\n",
        "  stop_list = []\n",
        "  info_dict = {}\n",
        "  for protein in protein_list: \n",
        "    if protein in protein_names:\n",
        "      count+=1\n",
        "      #index_list.append(protein_names.index(protein))\n",
        "      position = protein_names.index(protein)\n",
        "      #print(sheet.loc[position])\n",
        "      start = sheet.loc[position]['Start']\n",
        "      stop = sheet.loc[position]['Stop']\n",
        "      start_list.append(start)\n",
        "      stop_list.append(stop)\n",
        "    \n",
        "  if count == 4 and len(start_list)==4 and len(stop_list)==4:\n",
        "    #common_bacteria_set.append(sheet_name)\n",
        "    info_dict[\"Bacteria\"] = sheet_name\n",
        "    #print(start_list)\n",
        "    info_dict[\"Start Positions\"] = start_list\n",
        "    #print(stop_list)\n",
        "    info_dict[\"Stop Positions\"] = stop_list\n",
        "    print(info_dict)\n",
        "    common_bacteria_set.append(info_dict)\n",
        "print(common_bacteria_set)\n"
      ],
      "metadata": {
        "colab": {
          "base_uri": "https://localhost:8080/"
        },
        "id": "DJUy2NwEXqhw",
        "outputId": "4cd4f9a6-76fd-4c09-ff10-e0aa133ed031"
      },
      "execution_count": 17,
      "outputs": [
        {
          "output_type": "stream",
          "name": "stdout",
          "text": [
            "{'Bacteria': 'NZ_CP014692.1 ', 'Start Positions': [91315, 63174, 55106, 999992], 'Stop Positions': [93567, 64115, 57319, 1001515]}\n",
            "{'Bacteria': 'NZ_CP023657.1', 'Start Positions': [2302716, 38948, 17020, 2620725], 'Stop Positions': [2305046, 39874, 17271, 2622197]}\n",
            "{'Bacteria': 'NZ_CP022699.1', 'Start Positions': [415409, 1245829, 40006, 354315], 'Stop Positions': [417913, 1246758, 40275, 355829]}\n",
            "{'Bacteria': 'NZ_CP014687.1', 'Start Positions': [72020, 14424, 283045, 768608], 'Stop Positions': [74434, 15347, 283827, 770161]}\n",
            "{'Bacteria': 'NZ_LN606600.1', 'Start Positions': [387110, 616671, 1311595, 180201], 'Stop Positions': [390220, 617606, 1312500, 181805]}\n",
            "{'Bacteria': 'NZ_CP011120.1', 'Start Positions': [521501, 479816, 320717, 154424], 'Stop Positions': [523747, 480757, 321211, 155908]}\n",
            "{'Bacteria': 'NZ_CP015164.1', 'Start Positions': [155346, 121923, 748077, 98], 'Stop Positions': [157766, 122864, 749357, 1621]}\n",
            "{'Bacteria': 'NZ_CP015168.1', 'Start Positions': [148024, 248637, 1086506, 577437], 'Stop Positions': [150480, 249503, 1086736, 578921]}\n",
            "{'Bacteria': 'NZ_CP021524.1', 'Start Positions': [406747, 789471, 99530, 327202], 'Stop Positions': [408882, 790394, 100810, 328812]}\n",
            "{'Bacteria': 'NZ_AP018515.1', 'Start Positions': [867996, 379517, 359001, 1427079], 'Stop Positions': [870401, 380431, 359579, 1428593]}\n",
            "{'Bacteria': 'NZ_CP023189.1', 'Start Positions': [27557, 369793, 1061, 141770], 'Stop Positions': [29779, 370716, 1636, 143359]}\n",
            "{'Bacteria': 'NC_017100.1', 'Start Positions': [441026, 44664, 315904, 155470], 'Stop Positions': [443185, 45029, 316398, 156954]}\n",
            "{'Bacteria': 'NC_017121.1', 'Start Positions': [441026, 44664, 315904, 155470], 'Stop Positions': [443185, 45029, 316398, 156954]}\n",
            "{'Bacteria': 'NC_017125.1', 'Start Positions': [441026, 44664, 315904, 155470], 'Stop Positions': [443185, 45029, 316398, 156954]}\n",
            "{'Bacteria': 'NC_017146.1', 'Start Positions': [441026, 44664, 315904, 155470], 'Stop Positions': [443185, 45029, 316398, 156954]}\n",
            "{'Bacteria': 'NZ_LN609302.1', 'Start Positions': [4260, 963, 289340, 303038], 'Stop Positions': [6488, 1892, 289609, 304606]}\n",
            "{'Bacteria': 'NC_017111.1', 'Start Positions': [441026, 44664, 315904, 155470], 'Stop Positions': [443185, 45029, 316398, 156954]}\n",
            "{'Bacteria': 'NC_017150.1', 'Start Positions': [441032, 44664, 315910, 155470], 'Stop Positions': [443191, 45029, 316404, 156954]}\n",
            "{'Bacteria': 'NC_017108.1', 'Start Positions': [441026, 44664, 315904, 155470], 'Stop Positions': [443185, 45029, 316398, 156954]}\n",
            "{'Bacteria': 'NZ_AP014881.1', 'Start Positions': [417818, 42099, 294358, 151284], 'Stop Positions': [419977, 42464, 294852, 152768]}\n",
            "[{'Bacteria': 'NZ_CP014692.1 ', 'Start Positions': [91315, 63174, 55106, 999992], 'Stop Positions': [93567, 64115, 57319, 1001515]}, {'Bacteria': 'NZ_CP023657.1', 'Start Positions': [2302716, 38948, 17020, 2620725], 'Stop Positions': [2305046, 39874, 17271, 2622197]}, {'Bacteria': 'NZ_CP022699.1', 'Start Positions': [415409, 1245829, 40006, 354315], 'Stop Positions': [417913, 1246758, 40275, 355829]}, {'Bacteria': 'NZ_CP014687.1', 'Start Positions': [72020, 14424, 283045, 768608], 'Stop Positions': [74434, 15347, 283827, 770161]}, {'Bacteria': 'NZ_LN606600.1', 'Start Positions': [387110, 616671, 1311595, 180201], 'Stop Positions': [390220, 617606, 1312500, 181805]}, {'Bacteria': 'NZ_CP011120.1', 'Start Positions': [521501, 479816, 320717, 154424], 'Stop Positions': [523747, 480757, 321211, 155908]}, {'Bacteria': 'NZ_CP015164.1', 'Start Positions': [155346, 121923, 748077, 98], 'Stop Positions': [157766, 122864, 749357, 1621]}, {'Bacteria': 'NZ_CP015168.1', 'Start Positions': [148024, 248637, 1086506, 577437], 'Stop Positions': [150480, 249503, 1086736, 578921]}, {'Bacteria': 'NZ_CP021524.1', 'Start Positions': [406747, 789471, 99530, 327202], 'Stop Positions': [408882, 790394, 100810, 328812]}, {'Bacteria': 'NZ_AP018515.1', 'Start Positions': [867996, 379517, 359001, 1427079], 'Stop Positions': [870401, 380431, 359579, 1428593]}, {'Bacteria': 'NZ_CP023189.1', 'Start Positions': [27557, 369793, 1061, 141770], 'Stop Positions': [29779, 370716, 1636, 143359]}, {'Bacteria': 'NC_017100.1', 'Start Positions': [441026, 44664, 315904, 155470], 'Stop Positions': [443185, 45029, 316398, 156954]}, {'Bacteria': 'NC_017121.1', 'Start Positions': [441026, 44664, 315904, 155470], 'Stop Positions': [443185, 45029, 316398, 156954]}, {'Bacteria': 'NC_017125.1', 'Start Positions': [441026, 44664, 315904, 155470], 'Stop Positions': [443185, 45029, 316398, 156954]}, {'Bacteria': 'NC_017146.1', 'Start Positions': [441026, 44664, 315904, 155470], 'Stop Positions': [443185, 45029, 316398, 156954]}, {'Bacteria': 'NZ_LN609302.1', 'Start Positions': [4260, 963, 289340, 303038], 'Stop Positions': [6488, 1892, 289609, 304606]}, {'Bacteria': 'NC_017111.1', 'Start Positions': [441026, 44664, 315904, 155470], 'Stop Positions': [443185, 45029, 316398, 156954]}, {'Bacteria': 'NC_017150.1', 'Start Positions': [441032, 44664, 315910, 155470], 'Stop Positions': [443191, 45029, 316404, 156954]}, {'Bacteria': 'NC_017108.1', 'Start Positions': [441026, 44664, 315904, 155470], 'Stop Positions': [443185, 45029, 316398, 156954]}, {'Bacteria': 'NZ_AP014881.1', 'Start Positions': [417818, 42099, 294358, 151284], 'Stop Positions': [419977, 42464, 294852, 152768]}]\n"
          ]
        }
      ]
    },
    {
      "cell_type": "code",
      "source": [
        "!pip install Bio"
      ],
      "metadata": {
        "colab": {
          "base_uri": "https://localhost:8080/"
        },
        "id": "wGY1fIX28gcY",
        "outputId": "6ce413cd-c3d8-4f93-ef1e-e3030c1a361f"
      },
      "execution_count": 20,
      "outputs": [
        {
          "output_type": "stream",
          "name": "stdout",
          "text": [
            "Collecting Bio\n",
            "  Downloading bio-1.3.3-py3-none-any.whl (271 kB)\n",
            "\u001b[K     |████████████████████████████████| 271 kB 7.8 MB/s \n",
            "\u001b[?25hCollecting biopython>=1.79\n",
            "  Downloading biopython-1.79-cp37-cp37m-manylinux_2_5_x86_64.manylinux1_x86_64.whl (2.3 MB)\n",
            "\u001b[K     |████████████████████████████████| 2.3 MB 44.5 MB/s \n",
            "\u001b[?25hRequirement already satisfied: tqdm in /usr/local/lib/python3.7/dist-packages (from Bio) (4.62.3)\n",
            "Collecting mygene\n",
            "  Downloading mygene-3.2.2-py2.py3-none-any.whl (5.4 kB)\n",
            "Requirement already satisfied: requests in /usr/local/lib/python3.7/dist-packages (from Bio) (2.23.0)\n",
            "Requirement already satisfied: numpy in /usr/local/lib/python3.7/dist-packages (from biopython>=1.79->Bio) (1.19.5)\n",
            "Collecting biothings-client>=0.2.6\n",
            "  Downloading biothings_client-0.2.6-py2.py3-none-any.whl (37 kB)\n",
            "Requirement already satisfied: certifi>=2017.4.17 in /usr/local/lib/python3.7/dist-packages (from requests->Bio) (2021.10.8)\n",
            "Requirement already satisfied: idna<3,>=2.5 in /usr/local/lib/python3.7/dist-packages (from requests->Bio) (2.10)\n",
            "Requirement already satisfied: urllib3!=1.25.0,!=1.25.1,<1.26,>=1.21.1 in /usr/local/lib/python3.7/dist-packages (from requests->Bio) (1.24.3)\n",
            "Requirement already satisfied: chardet<4,>=3.0.2 in /usr/local/lib/python3.7/dist-packages (from requests->Bio) (3.0.4)\n",
            "Installing collected packages: biothings-client, mygene, biopython, Bio\n",
            "Successfully installed Bio-1.3.3 biopython-1.79 biothings-client-0.2.6 mygene-3.2.2\n"
          ]
        }
      ]
    },
    {
      "cell_type": "code",
      "source": [
        "from Bio import SeqIO\n",
        "protein_list = [\"TonB-dependent receptor\", \"LysR family transcriptional regulator\", \"helix-turn-helix domain-containing protein\", \"efflux transporter outer membrane subunit\"]\n",
        "for bact_details in common_bacteria_set:\n",
        "  bacteria = bact_details['Bacteria'].strip()\n",
        "  fasta = {}\n",
        "  for seq_record in SeqIO.parse(\"/content/drive/MyDrive/Bioinformatics/FASTAs/\"+bacteria+\".fasta\", \"fasta\"):\n",
        "    #print(seq_record.seq[:20])\n",
        "    fasta[\"TonB-dependent receptor\"] = seq_record.seq[bact_details['Start Positions'][0]:bact_details['Stop Positions'][0]]\n",
        "    fasta[\"LysR family transcriptional regulator\"] = seq_record.seq[bact_details['Start Positions'][1]:bact_details['Stop Positions'][1]]\n",
        "    fasta[\"helix-turn-helix domain-containing protein\"] = seq_record.seq[bact_details['Start Positions'][2]:bact_details['Stop Positions'][2]]\n",
        "    fasta[\"efflux transporter outer membrane subunit\"] = seq_record.seq[bact_details['Start Positions'][3]:bact_details['Stop Positions'][3]]\n",
        "  print(fasta)"
      ],
      "metadata": {
        "colab": {
          "base_uri": "https://localhost:8080/"
        },
        "id": "yQqawSs4v1pR",
        "outputId": "6c16be80-fb48-48b9-f05c-3a4b57ee2ac3"
      },
      "execution_count": 28,
      "outputs": [
        {
          "output_type": "stream",
          "name": "stdout",
          "text": [
            "{'TonB-dependent receptor': Seq('TAAAACCGCTGCGAAATGCCTGTCAGAATGGTCCGTCTCAGCCCGTACTGAGGC...CAT'), 'LysR family transcriptional regulator': Seq('TGCAGGGCGAAGCCAGCGATCTGAGATTTTTCATCAACCTCGTCGATGCGGGGA...TGA'), 'helix-turn-helix domain-containing protein': Seq('TGGGTCTGTTCGGCACCATTAAACCCGGGCTGAGGAAATCTCAGGCGGCTATTC...TGA'), 'efflux transporter outer membrane subunit': Seq('CATGAGGGCGTTTTCCTGTTGGCTGACGCCGGGTAGATGGTTTCCCAGCCGCCT...CAA')}\n",
            "{'TonB-dependent receptor': Seq('CAAAACCTGATCCGCATGCCGCCAAAATACGCACGGGGCGAACCTGCGTAGATG...CAT'), 'LysR family transcriptional regulator': Seq('CAGAACGCGACCGCCTGCTGTTCCAGAAAACTGATCACCCTTCGTGCGGCTGGC...CAT'), 'helix-turn-helix domain-containing protein': Seq('TGTTCGACAGACACACGCCGTCAACGGCGCGCTACCTGCGCACTCATGAAGCCG...TGA'), 'efflux transporter outer membrane subunit': Seq('TGCGGGCTTCATTCCTTCTTCACGGGATCGCGCTGACGGCTTTGCTCGGCGGTT...TAA')}\n",
            "{'TonB-dependent receptor': Seq('TAGAATTCTGCGCTTACCGTCCCAAAGAATTCACGAACGGCCCCTCGTTCAAGC...CAC'), 'LysR family transcriptional regulator': Seq('TATTGAGGTTTGACATAGCCAAAATTCCTAGATTTTTCACGTATAAATGATGAG...CAT'), 'helix-turn-helix domain-containing protein': Seq('TACCCTCCTGTCCGGCATGATAGCATGGCCTGTTTCCATGCCGCACAGGCGGGC...GAT'), 'efflux transporter outer membrane subunit': Seq('TACTGTTTGAAGGCCCGCGCTAACACATTCTGCGTTTCAAGAGAAACAGGAAGT...CAT')}\n",
            "{'TonB-dependent receptor': Seq('TAGAACGAGGTGCTGACTGTACCAAAAAACTCGCGCACGGCACCGCGTTCCATG...CAC'), 'LysR family transcriptional regulator': Seq('CACACAGCGACGTTTTCAAAAACCTTTCGGGAGACCCGGAAGAGTGTTTCCCGC...CAT'), 'helix-turn-helix domain-containing protein': Seq('TGAGCCTTTCCTCCGAACAGCATCGTGCTCTCGGGACTTTCCTGCGCGCGCGGC...TAA'), 'efflux transporter outer membrane subunit': Seq('TGAAGCATTTCCCTCTCCGCCCGTCTTCTCGCCGCCTGAGTATCCTGCTGGCCC...TGA')}\n",
            "{'TonB-dependent receptor': Seq('TGGGCGTGTACCCTCTGAGCCACGAGCCCCCCCGTGGTCTCTATAATAAAAAGC...TGA'), 'LysR family transcriptional regulator': Seq('TGAGGGAACTTAACGACTTCGCGTATTTTGTGCAGGTGGTGAAACACGGCGGTT...TGA'), 'helix-turn-helix domain-containing protein': Seq('TGCCCCCAAAACCCGAGATTCCGAGCTTTCTGACATATGGCATCAACACAAAAA...TGA'), 'efflux transporter outer membrane subunit': Seq('TACCGGGGCGTATCCGTTCTGTCAAGGGGCTGAGAGGTTTTTGATACCCCCTGC...CAT')}\n",
            "{'TonB-dependent receptor': Seq('TAAAAACCTTGGGAAATCCCGCCCAGAATGGTGCGGCGCAGCCCATATTGCGGG...CAT'), 'LysR family transcriptional regulator': Seq('TAGAGGTTTTCCGAATCTGCAAAGGGGGCGGTGTCATGCTGGCGTTGCTCCCAC...CAT'), 'helix-turn-helix domain-containing protein': Seq('TATCTGGATACGCTCATTGTTTGCATAAGCTCAAGAATTTTTCGGCGCATTTGC...CAC'), 'efflux transporter outer membrane subunit': Seq('TGACGCATTTTTCCGCATCCCGTCAGTCGCGCCTGTATCGTCAAGTTGCATGTC...TAA')}\n",
            "{'TonB-dependent receptor': Seq('TGGCCTGCGCGCTGGCTTCTGGCACGCTGCTTTCTGGTATGGCGTGGCCGGTTG...TAG'), 'LysR family transcriptional regulator': Seq('TGCATTCTCAAACTGAGAACAGGCAAATGAACCCATTTTCGCGCTTTCTGATCT...TGA'), 'helix-turn-helix domain-containing protein': Seq('TGCTGATGGCTGAAAACGCCCCAAGTTCTGAACAGGAGCAGCCGGCTGCTCTGC...TAG'), 'efflux transporter outer membrane subunit': Seq('TGAAGCGTCTTCTTCTTTCCGGCTTATCTGTGCTGGTGCTTTCTGGCTGCACAG...TAA')}\n",
            "{'TonB-dependent receptor': Seq('TAAAACCCGCAGGAAACACGGCCCCCAACAAAGCGTGGCTCACCGGGAATATAG...CAT'), 'LysR family transcriptional regulator': Seq('TAGTCTGTCTCGGATGGGCAAATAGTGTTGATAAACCTGCGCAGCAAAGGTTTT...CAT'), 'helix-turn-helix domain-containing protein': Seq('TGATCGAAGAGACGCAAAGGCCGGTCTATGCCTCTATTTCAGGCATCATGACCG...TAA'), 'efflux transporter outer membrane subunit': Seq('TATCCTTTTTCTTTCCAGCCACCACCCATTGAACGATAAAGCGTGACCAGATTT...CAT')}\n",
            "{'TonB-dependent receptor': Seq('TGAAAGAAAACCTCGCCCTTCCAACGTTCAGGAACAACTCTCGTCTGCGGGGTG...TGA'), 'LysR family transcriptional regulator': Seq('TACGGAACGGCACAAACAGGGCGTAAAACCTGCTGGCGCACCAGTTTTTCCAAC...CAT'), 'helix-turn-helix domain-containing protein': Seq('TAGTGCGAACCCATGCCCTGAAGCTGGCGCGCATTCAAATCATCAGCGCTTGGT...CAT'), 'efflux transporter outer membrane subunit': Seq('TACCGGGGCGCTGGCTGTGTGTCAAGTGGTTGTGTGTTTTTCATGCCGCCTGTC...CAT')}\n",
            "{'TonB-dependent receptor': Seq('TAGAAAGAAACCGAGAGCGTGCCGGTCATATTAAAGCGTGGGTACAGGTAATAA...CAT'), 'LysR family transcriptional regulator': Seq('TATTTTTCTGCCCATGGAGGCCGTTCAAATGCCTGCATCAAATACTCAAGTAAC...CAT'), 'helix-turn-helix domain-containing protein': Seq('CATACCCCTTTGGGTAGCGTAGAGCCTCCATCTGCGGTTAGTTCTTCCAGGGCG...CAT'), 'efflux transporter outer membrane subunit': Seq('TATTGCTTAAAGGCCCGCGCTAACACGTTTTGTGTTTCAAGAGAAACGGGCAAC...CAT')}\n",
            "{'TonB-dependent receptor': Seq('CGGCATGAGCAATCCAATTATGGAACGCTCATATGTAACAGATCTTCTGGTTAC...AAC'), 'LysR family transcriptional regulator': Seq('CAAGGGGGAAATTTGCCTAACACCTGTCGAGAAACACGAAAAAGGGTTTCTCTC...CAT'), 'helix-turn-helix domain-containing protein': Seq('TGGCAACATCCACATACCCGCCAGAAGACAGGCATGTGGTCGTGCGGGAAGCCG...CTG'), 'efflux transporter outer membrane subunit': Seq('TGCAAGGGCTGGTATTTTCTATCAGGCATATCATTTTCGGTGAGGGTGAACGGG...TGA')}\n",
            "{'TonB-dependent receptor': Seq('TGCGCCTAAAAACCCTTTTGCTTACCGGCTCTTCCCTGTTGCTGGTAGAAACCA...TGA'), 'LysR family transcriptional regulator': Seq('TGACGGCACGAGTAAGACTGACATTGCGGCTAGATGCAGATGGTAAGCCTGCGT...TGA'), 'helix-turn-helix domain-containing protein': Seq('TATTTGGGGTTGCTCATTGTTAGCATAAGCTCAAGAATTTTTCGGCGCATTTGC...CAC'), 'efflux transporter outer membrane subunit': Seq('TGACGCATTTTTCCGCATCACGTCAGTCGCGCTTGTATCGTCAGGTTGCATGTT...TAA')}\n",
            "{'TonB-dependent receptor': Seq('TGCGCCTAAAAACCCTTTTGCTTACCGGCTCTTCCCTGTTGCTGGTAGAAACCA...TGA'), 'LysR family transcriptional regulator': Seq('TGACGGCACGAGTAAGACTGACATTGCGGCTAGATGCAGATGGTAAGCCTGCGT...TGA'), 'helix-turn-helix domain-containing protein': Seq('TATTTGGGGTTGCTCATTGTTAGCATAAGCTCAAGAATTTTTCGGCGCATTTGC...CAC'), 'efflux transporter outer membrane subunit': Seq('TGACGCATTTTTCCGCATCACGTCAGTCGCGCTTGTATCGTCAGGTTGCATGTT...TAA')}\n",
            "{'TonB-dependent receptor': Seq('TGCGCCTAAAAACCCTTTTGCTTACCGGCTCTTCCCTGTTGCTGGTAGAAACCA...TGA'), 'LysR family transcriptional regulator': Seq('TGACGGCACGAGTAAGACTGACATTGCGGCTAGATGCAGATGGTAAGCCTGCGT...TGA'), 'helix-turn-helix domain-containing protein': Seq('TATTTGGGGTTGCTCATTGTTAGCATAAGCTCAAGAATTTTTCGGCGCATTTGC...CAC'), 'efflux transporter outer membrane subunit': Seq('TGACGCATTTTTCCGCATCACGTCAGTCGCGCTTGTATCGTCAGGTTGCATGTT...TAA')}\n",
            "{'TonB-dependent receptor': Seq('TGCGCCTAAAAACCCTTTTGCTTACCGGCTCTTCCCTGTTGCTGGTAGAAACCA...TGA'), 'LysR family transcriptional regulator': Seq('TGACGGCACGAGTAAGACTGACATTGCGGCTAGATGCAGATGGTAAGCCTGCGT...TGA'), 'helix-turn-helix domain-containing protein': Seq('TATTTGGGGTTGCTCATTGTTAGCATAAGCTCAAGAATTTTTCGGCGCATTTGC...CAC'), 'efflux transporter outer membrane subunit': Seq('TGACGCATTTTTCCGCATCACGTCAGTCGCGCTTGTATCGTCAGGTTGCATGTT...TAA')}\n",
            "{'TonB-dependent receptor': Seq('CAGAAATCCTTGCGAAGCACAAAGCCGCCGTAACGCCCGTAATCACGCGGGATG...CAT'), 'LysR family transcriptional regulator': Seq('TGCTTGACCGTTTCACCAGTATGCAGGTTTTTGTTAAGGTGGTGCAGGTTGGCA...TAA'), 'helix-turn-helix domain-containing protein': Seq('CAAAGGGTCGCCTTTTCGGCCGGAGTCAGCGGGCGGGCGGGGAAAACACGGCAG...CAT'), 'efflux transporter outer membrane subunit': Seq('TAGGTATGCTTGGTCTGGGTTTGCGGGAAGGTTGTCTCCCATCCACCACCCAGC...TAT')}\n",
            "{'TonB-dependent receptor': Seq('TGCGCCTAAAAACCCTTTTGCTTACCGGCTCTTCCCTGTTGCTGGTAGAAACCA...TGA'), 'LysR family transcriptional regulator': Seq('TGACGGCACGAGTAAGACTGACATTGCGGCTAGATGCAGATGGTAAGCCTGCGT...TGA'), 'helix-turn-helix domain-containing protein': Seq('TATTTGGGGTTGCTCATTGTTAGCATAAGCTCAAGAATTTTTCGGCGCATTTGC...CAC'), 'efflux transporter outer membrane subunit': Seq('TGACGCATTTTTCCGCATCACGTCAGTCGCGCTTGTATCGTCAGGTTGCATGTT...TAA')}\n",
            "{'TonB-dependent receptor': Seq('TGCGCCTAAAAACCCTTTTGCTTACCGGCTCTTCCCTGTTGCTGGTAGAAACCA...TGA'), 'LysR family transcriptional regulator': Seq('TGACGGCACGAGTAAGACTGACATTGCGGCTAGATGCAGATGGTAAGCCTGCGT...TGA'), 'helix-turn-helix domain-containing protein': Seq('TATTTGGGGTTGCTCATTGTTAGCATAAGCTCAAGAATTTTTCGGCGCATTTGC...CAC'), 'efflux transporter outer membrane subunit': Seq('TGACGCATTTTTCCGCATCACGTCAGTCGCGCTTGTATCGTCAGGTTGCATGTT...TAA')}\n",
            "{'TonB-dependent receptor': Seq('TGCGCCTAAAAACCCTTTTGCTTACCGGCTCTTCCCTGTTGCTGGTAGAAACCA...TGA'), 'LysR family transcriptional regulator': Seq('TGACGGCACGAGTAAGACTGACATTGCGGCTAGATGCAGATGGTAAGCCTGCGT...TGA'), 'helix-turn-helix domain-containing protein': Seq('TATTTGGGGTTGCTCATTGTTAGCATAAGCTCAAGAATTTTTCGGCGCATTTGC...CAC'), 'efflux transporter outer membrane subunit': Seq('TGACGCATTTTTCCGCATCACGTCAGTCGCGCTTGTATCGTCAGGTTGCATGTT...TAA')}\n",
            "{'TonB-dependent receptor': Seq('TGCGCCTAAAAACCCTTTTGCTTACCGGCTCTTCCCTGTTGCTGGTAGAAACCA...TGA'), 'LysR family transcriptional regulator': Seq('TGACGGCACGAGTAAGACTGACATTGCGGCTAGATGCAGATGGTAAGCCTGCGT...TGA'), 'helix-turn-helix domain-containing protein': Seq('TATTTGGGGTTGCTCATTGTTAGCATAAGCTCAAGAATTTTTCGGCGCATTTGC...CAC'), 'efflux transporter outer membrane subunit': Seq('TGACGCATTTTTCCGCATCACGTCAGTCGCGCTTGTATCGTCAGGTTGCATGTT...TAA')}\n"
          ]
        }
      ]
    },
    {
      "cell_type": "code",
      "source": [
        ""
      ],
      "metadata": {
        "id": "a5Zg4EC1YQOd"
      },
      "execution_count": null,
      "outputs": []
    }
  ]
}