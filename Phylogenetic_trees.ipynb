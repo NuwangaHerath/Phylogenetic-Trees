{
  "nbformat": 4,
  "nbformat_minor": 0,
  "metadata": {
    "colab": {
      "name": "Phylogenetic trees.ipynb",
      "provenance": [],
      "collapsed_sections": [],
      "mount_file_id": "https://github.com/rukmals/-Phylogenetic-Trees/blob/main/Phylogenetic_trees.ipynb",
      "authorship_tag": "ABX9TyPY2mtL9zb5cbMdxuNMzgKl",
      "include_colab_link": true
    },
    "kernelspec": {
      "name": "python3",
      "display_name": "Python 3"
    },
    "language_info": {
      "name": "python"
    }
  },
  "cells": [
    {
      "cell_type": "markdown",
      "metadata": {
        "id": "view-in-github",
        "colab_type": "text"
      },
      "source": [
        "<a href=\"https://colab.research.google.com/github/rukmals/Phylogenetic-Trees/blob/main/Phylogenetic_trees.ipynb\" target=\"_parent\"><img src=\"https://colab.research.google.com/assets/colab-badge.svg\" alt=\"Open In Colab\"/></a>"
      ]
    },
    {
      "cell_type": "code",
      "execution_count": 1,
      "metadata": {
        "id": "-R6OdOPBVFj-"
      },
      "outputs": [],
      "source": [
        "import pandas as pd\n",
        "df = pd.read_excel('/content/drive/MyDrive/Bioinformatics/protein_tables.xlsx', sheet_name = None) "
      ]
    },
    {
      "cell_type": "code",
      "source": [
        "df.keys()"
      ],
      "metadata": {
        "colab": {
          "base_uri": "https://localhost:8080/"
        },
        "id": "eLaSKcj7WrIG",
        "outputId": "00e75b07-d771-4362-fae9-4f5bc78c028f"
      },
      "execution_count": 2,
      "outputs": [
        {
          "output_type": "execute_result",
          "data": {
            "text/plain": [
              "dict_keys(['NZ_CP014692.1 ', 'NZ_CP023657.1', 'NZ_CP022699.1', 'NZ_CP014687.1', 'NZ_LN606600.1', 'NZ_CP011120.1', 'NZ_CP015164.1', 'NZ_CP015168.1', 'NZ_CP021524.1', 'NZ_CP022374.1', 'NZ_AP018515.1', 'NZ_CP023189.1', 'NC_017100.1', 'NC_017121.1', 'NC_017125.1', 'NC_017146.1', 'NZ_LN609302.1', 'NC_017111.1', 'NC_017150.1', 'NC_017108.1', 'NZ_AP014881.1'])"
            ]
          },
          "metadata": {},
          "execution_count": 2
        }
      ]
    },
    {
      "cell_type": "code",
      "source": [
        "len(df.keys())"
      ],
      "metadata": {
        "colab": {
          "base_uri": "https://localhost:8080/"
        },
        "id": "hESxIiQKWwYv",
        "outputId": "90e639d0-551c-42e4-c48b-f6e9b38ea0fd"
      },
      "execution_count": 3,
      "outputs": [
        {
          "output_type": "execute_result",
          "data": {
            "text/plain": [
              "21"
            ]
          },
          "metadata": {},
          "execution_count": 3
        }
      ]
    },
    {
      "cell_type": "code",
      "source": [
        "df['NZ_CP014692.1 ']['Protein name']"
      ],
      "metadata": {
        "colab": {
          "base_uri": "https://localhost:8080/"
        },
        "id": "dVb7htk9XSk2",
        "outputId": "4de44296-2902-44e1-dfcd-4ca76b846f42"
      },
      "execution_count": 4,
      "outputs": [
        {
          "output_type": "execute_result",
          "data": {
            "text/plain": [
              "0        nucleoside-diphosphate sugar epimerase\n",
              "1                           glycosyltransferase\n",
              "2       lipopolysaccharide biosynthesis protein\n",
              "3                          hypothetical protein\n",
              "4        twin-arginine translocase subunit TatB\n",
              "                         ...                   \n",
              "3257       AarF/ABC1/UbiB kinase family protein\n",
              "3258               M3 family oligoendopeptidase\n",
              "3259                        elongation factor 4\n",
              "3260    lipopolysaccharide biosynthesis protein\n",
              "3261         5,6-dimethylbenzimidazole synthase\n",
              "Name: Protein name, Length: 3262, dtype: object"
            ]
          },
          "metadata": {},
          "execution_count": 4
        }
      ]
    },
    {
      "cell_type": "code",
      "source": [
        "protein_list = [\"TonB-dependent receptor\", \"LysR family transcriptional regulator\", \"helix-turn-helix domain-containing protein\", \"efflux transporter outer membrane subunit\"]\n",
        "sheet_list = df.keys()\n",
        "\n",
        "common_bacteria_set = []\n",
        "for sheet_name in sheet_list:\n",
        "  sheet = df[sheet_name]\n",
        "  protein_names = list(sheet['Protein name'])\n",
        "  #print(sheet_name)\n",
        "  count = 0\n",
        "  #index_list = []\n",
        "  start_list = []\n",
        "  stop_list = []\n",
        "  info_dict = {}\n",
        "  \n",
        "  for protein in protein_list:\n",
        "    start_ = []\n",
        "    stop_ = []\n",
        "    for proteinInsheet in protein_names:\n",
        "      #print(proteinInsheet)\n",
        "      if (protein in proteinInsheet):# or (\"MULTISPECIES: \"+protein in protein_names):\n",
        "        #count+=1\n",
        "        #index_list.append(protein_names.index(protein))\n",
        "        position = protein_names.index(proteinInsheet)\n",
        "        #print(sheet.loc[position])\n",
        "        start = sheet.loc[position]['Start']\n",
        "        stop = sheet.loc[position]['Stop']\n",
        "        start_.append(start)\n",
        "        stop_.append(stop)\n",
        "    #print(start_)\n",
        "    start_list.append(start_[0])\n",
        "    stop_list.append(stop_[0])\n",
        "  #print(start_list)\n",
        "  #print(stop_list)\n",
        "        \n",
        "    \n",
        "  if len(start_list)==4 and len(stop_list)==4:\n",
        "    #common_bacteria_set.append(sheet_name)\n",
        "    info_dict[\"Bacteria\"] = sheet_name\n",
        "    #print(start_list)\n",
        "    info_dict[\"Start Positions\"] = start_list\n",
        "    #print(stop_list)\n",
        "    info_dict[\"Stop Positions\"] = stop_list\n",
        "    print(info_dict)\n",
        "    common_bacteria_set.append(info_dict)\n",
        "print(common_bacteria_set)\n"
      ],
      "metadata": {
        "colab": {
          "base_uri": "https://localhost:8080/"
        },
        "id": "DJUy2NwEXqhw",
        "outputId": "1e2baf6e-9ce7-4e95-98aa-42aaa797b6ad"
      },
      "execution_count": 5,
      "outputs": [
        {
          "output_type": "stream",
          "name": "stdout",
          "text": [
            "{'Bacteria': 'NZ_CP014692.1 ', 'Start Positions': [91315, 63174, 55106, 999992], 'Stop Positions': [93567, 64115, 57319, 1001515]}\n",
            "{'Bacteria': 'NZ_CP023657.1', 'Start Positions': [211872, 333, 17020, 559625], 'Stop Positions': [214211, 1220, 17271, 561190]}\n",
            "{'Bacteria': 'NZ_CP022699.1', 'Start Positions': [30077, 18042, 40006, 117718], 'Stop Positions': [32524, 18938, 40275, 119154]}\n",
            "{'Bacteria': 'NZ_CP014687.1', 'Start Positions': [72020, 14424, 202443, 768608], 'Stop Positions': [74434, 15347, 202718, 770161]}\n",
            "{'Bacteria': 'NZ_LN606600.1', 'Start Positions': [387110, 481992, 1311595, 136496], 'Stop Positions': [390220, 482918, 1312500, 138073]}\n",
            "{'Bacteria': 'NZ_CP011120.1', 'Start Positions': [521501, 45285, 320717, 154424], 'Stop Positions': [523747, 45650, 321211, 155908]}\n",
            "{'Bacteria': 'NZ_CP015164.1', 'Start Positions': [155346, 121923, 748077, 98], 'Stop Positions': [157766, 122864, 749357, 1621]}\n",
            "{'Bacteria': 'NZ_CP015168.1', 'Start Positions': [148024, 248637, 1086506, 561625], 'Stop Positions': [150480, 249503, 1086736, 563154]}\n",
            "{'Bacteria': 'NZ_CP021524.1', 'Start Positions': [406747, 754589, 99530, 294338], 'Stop Positions': [408882, 755500, 100810, 295903]}\n",
            "{'Bacteria': 'NZ_CP022374.1', 'Start Positions': [473107, 42006, 311284, 152018], 'Stop Positions': [475353, 42371, 311778, 153502]}\n",
            "{'Bacteria': 'NZ_AP018515.1', 'Start Positions': [867996, 379517, 359001, 1427079], 'Stop Positions': [870401, 380431, 359579, 1428593]}\n",
            "{'Bacteria': 'NZ_CP023189.1', 'Start Positions': [439550, 149259, 29399, 141770], 'Stop Positions': [441760, 150152, 29662, 143359]}\n",
            "{'Bacteria': 'NC_017100.1', 'Start Positions': [441026, 44664, 315904, 155470], 'Stop Positions': [443185, 45029, 316398, 156954]}\n",
            "{'Bacteria': 'NC_017121.1', 'Start Positions': [441026, 44664, 315904, 155470], 'Stop Positions': [443185, 45029, 316398, 156954]}\n",
            "{'Bacteria': 'NC_017125.1', 'Start Positions': [441026, 44664, 315904, 155470], 'Stop Positions': [443185, 45029, 316398, 156954]}\n",
            "{'Bacteria': 'NC_017146.1', 'Start Positions': [441026, 44664, 315904, 155470], 'Stop Positions': [443185, 45029, 316398, 156954]}\n",
            "{'Bacteria': 'NZ_LN609302.1', 'Start Positions': [4260, 963, 289340, 303038], 'Stop Positions': [6488, 1892, 289609, 304606]}\n",
            "{'Bacteria': 'NC_017111.1', 'Start Positions': [441026, 44664, 315904, 155470], 'Stop Positions': [443185, 45029, 316398, 156954]}\n",
            "{'Bacteria': 'NC_017150.1', 'Start Positions': [441032, 44664, 315910, 155470], 'Stop Positions': [443191, 45029, 316404, 156954]}\n",
            "{'Bacteria': 'NC_017108.1', 'Start Positions': [441026, 44664, 315904, 155470], 'Stop Positions': [443185, 45029, 316398, 156954]}\n",
            "{'Bacteria': 'NZ_AP014881.1', 'Start Positions': [417818, 42099, 294358, 151284], 'Stop Positions': [419977, 42464, 294852, 152768]}\n",
            "[{'Bacteria': 'NZ_CP014692.1 ', 'Start Positions': [91315, 63174, 55106, 999992], 'Stop Positions': [93567, 64115, 57319, 1001515]}, {'Bacteria': 'NZ_CP023657.1', 'Start Positions': [211872, 333, 17020, 559625], 'Stop Positions': [214211, 1220, 17271, 561190]}, {'Bacteria': 'NZ_CP022699.1', 'Start Positions': [30077, 18042, 40006, 117718], 'Stop Positions': [32524, 18938, 40275, 119154]}, {'Bacteria': 'NZ_CP014687.1', 'Start Positions': [72020, 14424, 202443, 768608], 'Stop Positions': [74434, 15347, 202718, 770161]}, {'Bacteria': 'NZ_LN606600.1', 'Start Positions': [387110, 481992, 1311595, 136496], 'Stop Positions': [390220, 482918, 1312500, 138073]}, {'Bacteria': 'NZ_CP011120.1', 'Start Positions': [521501, 45285, 320717, 154424], 'Stop Positions': [523747, 45650, 321211, 155908]}, {'Bacteria': 'NZ_CP015164.1', 'Start Positions': [155346, 121923, 748077, 98], 'Stop Positions': [157766, 122864, 749357, 1621]}, {'Bacteria': 'NZ_CP015168.1', 'Start Positions': [148024, 248637, 1086506, 561625], 'Stop Positions': [150480, 249503, 1086736, 563154]}, {'Bacteria': 'NZ_CP021524.1', 'Start Positions': [406747, 754589, 99530, 294338], 'Stop Positions': [408882, 755500, 100810, 295903]}, {'Bacteria': 'NZ_CP022374.1', 'Start Positions': [473107, 42006, 311284, 152018], 'Stop Positions': [475353, 42371, 311778, 153502]}, {'Bacteria': 'NZ_AP018515.1', 'Start Positions': [867996, 379517, 359001, 1427079], 'Stop Positions': [870401, 380431, 359579, 1428593]}, {'Bacteria': 'NZ_CP023189.1', 'Start Positions': [439550, 149259, 29399, 141770], 'Stop Positions': [441760, 150152, 29662, 143359]}, {'Bacteria': 'NC_017100.1', 'Start Positions': [441026, 44664, 315904, 155470], 'Stop Positions': [443185, 45029, 316398, 156954]}, {'Bacteria': 'NC_017121.1', 'Start Positions': [441026, 44664, 315904, 155470], 'Stop Positions': [443185, 45029, 316398, 156954]}, {'Bacteria': 'NC_017125.1', 'Start Positions': [441026, 44664, 315904, 155470], 'Stop Positions': [443185, 45029, 316398, 156954]}, {'Bacteria': 'NC_017146.1', 'Start Positions': [441026, 44664, 315904, 155470], 'Stop Positions': [443185, 45029, 316398, 156954]}, {'Bacteria': 'NZ_LN609302.1', 'Start Positions': [4260, 963, 289340, 303038], 'Stop Positions': [6488, 1892, 289609, 304606]}, {'Bacteria': 'NC_017111.1', 'Start Positions': [441026, 44664, 315904, 155470], 'Stop Positions': [443185, 45029, 316398, 156954]}, {'Bacteria': 'NC_017150.1', 'Start Positions': [441032, 44664, 315910, 155470], 'Stop Positions': [443191, 45029, 316404, 156954]}, {'Bacteria': 'NC_017108.1', 'Start Positions': [441026, 44664, 315904, 155470], 'Stop Positions': [443185, 45029, 316398, 156954]}, {'Bacteria': 'NZ_AP014881.1', 'Start Positions': [417818, 42099, 294358, 151284], 'Stop Positions': [419977, 42464, 294852, 152768]}]\n"
          ]
        }
      ]
    },
    {
      "cell_type": "code",
      "source": [
        "\"\"\"{'Bacteria': 'NZ_CP014692.1 ', 'Start Positions': [91315, 63174, 55106, 999992], 'Stop Positions': [93567, 64115, 57319, 1001515]}\n",
        "{'Bacteria': 'NZ_CP023657.1', 'Start Positions': [2302716, 38948, 17020, 2620725], 'Stop Positions': [2305046, 39874, 17271, 2622197]}\n",
        "{'Bacteria': 'NZ_CP022699.1', 'Start Positions': [415409, 1245829, 40006, 354315], 'Stop Positions': [417913, 1246758, 40275, 355829]}\n",
        "{'Bacteria': 'NZ_CP014687.1', 'Start Positions': [72020, 14424, 283045, 768608], 'Stop Positions': [74434, 15347, 283827, 770161]}\n",
        "{'Bacteria': 'NZ_LN606600.1', 'Start Positions': [387110, 616671, 1311595, 180201], 'Stop Positions': [390220, 617606, 1312500, 181805]}\n",
        "{'Bacteria': 'NZ_CP011120.1', 'Start Positions': [521501, 479816, 320717, 154424], 'Stop Positions': [523747, 480757, 321211, 155908]}\n",
        "{'Bacteria': 'NZ_CP015164.1', 'Start Positions': [155346, 121923, 748077, 98], 'Stop Positions': [157766, 122864, 749357, 1621]}\n",
        "{'Bacteria': 'NZ_CP015168.1', 'Start Positions': [148024, 248637, 1086506, 577437], 'Stop Positions': [150480, 249503, 1086736, 578921]}\n",
        "{'Bacteria': 'NZ_CP021524.1', 'Start Positions': [406747, 789471, 99530, 327202], 'Stop Positions': [408882, 790394, 100810, 328812]}\n",
        "{'Bacteria': 'NZ_AP018515.1', 'Start Positions': [867996, 379517, 359001, 1427079], 'Stop Positions': [870401, 380431, 359579, 1428593]}\n",
        "{'Bacteria': 'NZ_CP023189.1', 'Start Positions': [27557, 369793, 1061, 141770], 'Stop Positions': [29779, 370716, 1636, 143359]}\n",
        "{'Bacteria': 'NC_017100.1', 'Start Positions': [441026, 44664, 315904, 155470], 'Stop Positions': [443185, 45029, 316398, 156954]}\n",
        "{'Bacteria': 'NC_017121.1', 'Start Positions': [441026, 44664, 315904, 155470], 'Stop Positions': [443185, 45029, 316398, 156954]}\n",
        "{'Bacteria': 'NC_017125.1', 'Start Positions': [441026, 44664, 315904, 155470], 'Stop Positions': [443185, 45029, 316398, 156954]}\n",
        "{'Bacteria': 'NC_017146.1', 'Start Positions': [441026, 44664, 315904, 155470], 'Stop Positions': [443185, 45029, 316398, 156954]}\n",
        "{'Bacteria': 'NZ_LN609302.1', 'Start Positions': [4260, 963, 289340, 303038], 'Stop Positions': [6488, 1892, 289609, 304606]}\n",
        "{'Bacteria': 'NC_017111.1', 'Start Positions': [441026, 44664, 315904, 155470], 'Stop Positions': [443185, 45029, 316398, 156954]}\n",
        "{'Bacteria': 'NC_017150.1', 'Start Positions': [441032, 44664, 315910, 155470], 'Stop Positions': [443191, 45029, 316404, 156954]}\n",
        "{'Bacteria': 'NC_017108.1', 'Start Positions': [441026, 44664, 315904, 155470], 'Stop Positions': [443185, 45029, 316398, 156954]}\n",
        "{'Bacteria': 'NZ_AP014881.1', 'Start Positions': [417818, 42099, 294358, 151284], 'Stop Positions': [419977, 42464, 294852, 152768]}\"\"\""
      ],
      "metadata": {
        "colab": {
          "base_uri": "https://localhost:8080/",
          "height": 227
        },
        "id": "QjZ4YgcK4FsF",
        "outputId": "8554430c-4770-4f6c-a430-f9a3de18a6d7"
      },
      "execution_count": 6,
      "outputs": [
        {
          "output_type": "execute_result",
          "data": {
            "application/vnd.google.colaboratory.intrinsic+json": {
              "type": "string"
            },
            "text/plain": [
              "\"{'Bacteria': 'NZ_CP014692.1 ', 'Start Positions': [91315, 63174, 55106, 999992], 'Stop Positions': [93567, 64115, 57319, 1001515]}\\n{'Bacteria': 'NZ_CP023657.1', 'Start Positions': [2302716, 38948, 17020, 2620725], 'Stop Positions': [2305046, 39874, 17271, 2622197]}\\n{'Bacteria': 'NZ_CP022699.1', 'Start Positions': [415409, 1245829, 40006, 354315], 'Stop Positions': [417913, 1246758, 40275, 355829]}\\n{'Bacteria': 'NZ_CP014687.1', 'Start Positions': [72020, 14424, 283045, 768608], 'Stop Positions': [74434, 15347, 283827, 770161]}\\n{'Bacteria': 'NZ_LN606600.1', 'Start Positions': [387110, 616671, 1311595, 180201], 'Stop Positions': [390220, 617606, 1312500, 181805]}\\n{'Bacteria': 'NZ_CP011120.1', 'Start Positions': [521501, 479816, 320717, 154424], 'Stop Positions': [523747, 480757, 321211, 155908]}\\n{'Bacteria': 'NZ_CP015164.1', 'Start Positions': [155346, 121923, 748077, 98], 'Stop Positions': [157766, 122864, 749357, 1621]}\\n{'Bacteria': 'NZ_CP015168.1', 'Start Positions': [148024, 248637, 1086506, 577437], 'Stop Positions': [150480, 249503, 1086736, 578921]}\\n{'Bacteria': 'NZ_CP021524.1', 'Start Positions': [406747, 789471, 99530, 327202], 'Stop Positions': [408882, 790394, 100810, 328812]}\\n{'Bacteria': 'NZ_AP018515.1', 'Start Positions': [867996, 379517, 359001, 1427079], 'Stop Positions': [870401, 380431, 359579, 1428593]}\\n{'Bacteria': 'NZ_CP023189.1', 'Start Positions': [27557, 369793, 1061, 141770], 'Stop Positions': [29779, 370716, 1636, 143359]}\\n{'Bacteria': 'NC_017100.1', 'Start Positions': [441026, 44664, 315904, 155470], 'Stop Positions': [443185, 45029, 316398, 156954]}\\n{'Bacteria': 'NC_017121.1', 'Start Positions': [441026, 44664, 315904, 155470], 'Stop Positions': [443185, 45029, 316398, 156954]}\\n{'Bacteria': 'NC_017125.1', 'Start Positions': [441026, 44664, 315904, 155470], 'Stop Positions': [443185, 45029, 316398, 156954]}\\n{'Bacteria': 'NC_017146.1', 'Start Positions': [441026, 44664, 315904, 155470], 'Stop Positions': [443185, 45029, 316398, 156954]}\\n{'Bacteria': 'NZ_LN609302.1', 'Start Positions': [4260, 963, 289340, 303038], 'Stop Positions': [6488, 1892, 289609, 304606]}\\n{'Bacteria': 'NC_017111.1', 'Start Positions': [441026, 44664, 315904, 155470], 'Stop Positions': [443185, 45029, 316398, 156954]}\\n{'Bacteria': 'NC_017150.1', 'Start Positions': [441032, 44664, 315910, 155470], 'Stop Positions': [443191, 45029, 316404, 156954]}\\n{'Bacteria': 'NC_017108.1', 'Start Positions': [441026, 44664, 315904, 155470], 'Stop Positions': [443185, 45029, 316398, 156954]}\\n{'Bacteria': 'NZ_AP014881.1', 'Start Positions': [417818, 42099, 294358, 151284], 'Stop Positions': [419977, 42464, 294852, 152768]}\""
            ]
          },
          "metadata": {},
          "execution_count": 6
        }
      ]
    },
    {
      "cell_type": "code",
      "source": [
        "!pip install Bio"
      ],
      "metadata": {
        "colab": {
          "base_uri": "https://localhost:8080/"
        },
        "id": "wGY1fIX28gcY",
        "outputId": "60fd5a19-82d3-4b2b-ac0d-a20ef43b715d"
      },
      "execution_count": 7,
      "outputs": [
        {
          "output_type": "stream",
          "name": "stdout",
          "text": [
            "Collecting Bio\n",
            "  Downloading bio-1.3.3-py3-none-any.whl (271 kB)\n",
            "\u001b[?25l\r\u001b[K     |█▏                              | 10 kB 17.3 MB/s eta 0:00:01\r\u001b[K     |██▍                             | 20 kB 23.1 MB/s eta 0:00:01\r\u001b[K     |███▋                            | 30 kB 25.6 MB/s eta 0:00:01\r\u001b[K     |████▉                           | 40 kB 28.8 MB/s eta 0:00:01\r\u001b[K     |██████                          | 51 kB 31.6 MB/s eta 0:00:01\r\u001b[K     |███████▎                        | 61 kB 34.9 MB/s eta 0:00:01\r\u001b[K     |████████▍                       | 71 kB 36.8 MB/s eta 0:00:01\r\u001b[K     |█████████▋                      | 81 kB 36.9 MB/s eta 0:00:01\r\u001b[K     |██████████▉                     | 92 kB 38.4 MB/s eta 0:00:01\r\u001b[K     |████████████                    | 102 kB 29.1 MB/s eta 0:00:01\r\u001b[K     |█████████████▎                  | 112 kB 29.1 MB/s eta 0:00:01\r\u001b[K     |██████████████▌                 | 122 kB 29.1 MB/s eta 0:00:01\r\u001b[K     |███████████████▊                | 133 kB 29.1 MB/s eta 0:00:01\r\u001b[K     |████████████████▉               | 143 kB 29.1 MB/s eta 0:00:01\r\u001b[K     |██████████████████              | 153 kB 29.1 MB/s eta 0:00:01\r\u001b[K     |███████████████████▎            | 163 kB 29.1 MB/s eta 0:00:01\r\u001b[K     |████████████████████▌           | 174 kB 29.1 MB/s eta 0:00:01\r\u001b[K     |█████████████████████▊          | 184 kB 29.1 MB/s eta 0:00:01\r\u001b[K     |███████████████████████         | 194 kB 29.1 MB/s eta 0:00:01\r\u001b[K     |████████████████████████▏       | 204 kB 29.1 MB/s eta 0:00:01\r\u001b[K     |█████████████████████████▎      | 215 kB 29.1 MB/s eta 0:00:01\r\u001b[K     |██████████████████████████▌     | 225 kB 29.1 MB/s eta 0:00:01\r\u001b[K     |███████████████████████████▊    | 235 kB 29.1 MB/s eta 0:00:01\r\u001b[K     |█████████████████████████████   | 245 kB 29.1 MB/s eta 0:00:01\r\u001b[K     |██████████████████████████████▏ | 256 kB 29.1 MB/s eta 0:00:01\r\u001b[K     |███████████████████████████████▍| 266 kB 29.1 MB/s eta 0:00:01\r\u001b[K     |████████████████████████████████| 271 kB 29.1 MB/s \n",
            "\u001b[?25hRequirement already satisfied: requests in /usr/local/lib/python3.7/dist-packages (from Bio) (2.23.0)\n",
            "Collecting biopython>=1.79\n",
            "  Downloading biopython-1.79-cp37-cp37m-manylinux_2_5_x86_64.manylinux1_x86_64.whl (2.3 MB)\n",
            "\u001b[K     |████████████████████████████████| 2.3 MB 49.4 MB/s \n",
            "\u001b[?25hRequirement already satisfied: tqdm in /usr/local/lib/python3.7/dist-packages (from Bio) (4.62.3)\n",
            "Collecting mygene\n",
            "  Downloading mygene-3.2.2-py2.py3-none-any.whl (5.4 kB)\n",
            "Requirement already satisfied: numpy in /usr/local/lib/python3.7/dist-packages (from biopython>=1.79->Bio) (1.19.5)\n",
            "Collecting biothings-client>=0.2.6\n",
            "  Downloading biothings_client-0.2.6-py2.py3-none-any.whl (37 kB)\n",
            "Requirement already satisfied: urllib3!=1.25.0,!=1.25.1,<1.26,>=1.21.1 in /usr/local/lib/python3.7/dist-packages (from requests->Bio) (1.24.3)\n",
            "Requirement already satisfied: idna<3,>=2.5 in /usr/local/lib/python3.7/dist-packages (from requests->Bio) (2.10)\n",
            "Requirement already satisfied: certifi>=2017.4.17 in /usr/local/lib/python3.7/dist-packages (from requests->Bio) (2021.10.8)\n",
            "Requirement already satisfied: chardet<4,>=3.0.2 in /usr/local/lib/python3.7/dist-packages (from requests->Bio) (3.0.4)\n",
            "Installing collected packages: biothings-client, mygene, biopython, Bio\n",
            "Successfully installed Bio-1.3.3 biopython-1.79 biothings-client-0.2.6 mygene-3.2.2\n"
          ]
        }
      ]
    },
    {
      "cell_type": "code",
      "source": [
        "from Bio import SeqIO\n",
        "protein_list = [\"TonB-dependent receptor\", \"LysR family transcriptional regulator\", \"helix-turn-helix domain-containing protein\", \"efflux transporter outer membrane subunit\"]\n",
        "homogeneus_gene_seq = []\n",
        "for bact_details in common_bacteria_set:\n",
        "  bacteria = bact_details['Bacteria'].strip()\n",
        "  fasta = {}\n",
        "  for seq_record in SeqIO.parse(\"/content/drive/MyDrive/Bioinformatics/FASTAs/\"+bacteria+\".fasta\", \"fasta\"):\n",
        "    #print(seq_record.seq[:20])\n",
        "    #fasta[\"Bacteria\"] = bact_details['Bacteria']\n",
        "    fasta[\"id\"] = seq_record.id\n",
        "    fasta['description'] = seq_record.description\n",
        "    fasta[\"TonB-dependent receptor\"] = seq_record.seq[bact_details['Start Positions'][0]:bact_details['Stop Positions'][0]]\n",
        "    fasta[\"LysR family transcriptional regulator\"] = seq_record.seq[bact_details['Start Positions'][1]:bact_details['Stop Positions'][1]]\n",
        "    fasta[\"helix-turn-helix domain-containing protein\"] = seq_record.seq[bact_details['Start Positions'][2]:bact_details['Stop Positions'][2]]\n",
        "    fasta[\"efflux transporter outer membrane subunit\"] = seq_record.seq[bact_details['Start Positions'][3]:bact_details['Stop Positions'][3]]\n",
        "  print(fasta)\n",
        "  homogeneus_gene_seq.append(fasta)"
      ],
      "metadata": {
        "colab": {
          "base_uri": "https://localhost:8080/"
        },
        "id": "yQqawSs4v1pR",
        "outputId": "84e5ef50-f629-4169-ac41-455242b2ca22"
      },
      "execution_count": 36,
      "outputs": [
        {
          "output_type": "stream",
          "name": "stdout",
          "text": [
            "{'id': 'NZ_CP014692.1', 'description': 'NZ_CP014692.1 Acetobacter aceti strain TMW2.1153 chromosome, complete genome', 'TonB-dependent receptor': Seq('TAAAACCGCTGCGAAATGCCTGTCAGAATGGTCCGTCTCAGCCCGTACTGAGGC...CAT'), 'LysR family transcriptional regulator': Seq('TGCAGGGCGAAGCCAGCGATCTGAGATTTTTCATCAACCTCGTCGATGCGGGGA...TGA'), 'helix-turn-helix domain-containing protein': Seq('TGGGTCTGTTCGGCACCATTAAACCCGGGCTGAGGAAATCTCAGGCGGCTATTC...TGA'), 'efflux transporter outer membrane subunit': Seq('CATGAGGGCGTTTTCCTGTTGGCTGACGCCGGGTAGATGGTTTCCCAGCCGCCT...CAA')}\n",
            "{'id': 'NZ_CP023657.1', 'description': 'NZ_CP023657.1 Acetobacter pomorum strain BDGP5 chromosome, complete genome', 'TonB-dependent receptor': Seq('TGTCCTTTCGGATTATTGCGCCGTCCCGCCCAGTTTTGTCCCGACTGACATACC...TAA'), 'LysR family transcriptional regulator': Seq('TATGCTGACCCAAGGCGACCCGCCATAAAGTCAACAAAAGCTCGGATTTTGGGT...CAT'), 'helix-turn-helix domain-containing protein': Seq('TGTTCGACAGACACACGCCGTCAACGGCGCGCTACCTGCGCACTCATGAAGCCG...TGA'), 'efflux transporter outer membrane subunit': Seq('TGGTTTCGCCTTCTTTTTCCAGCATGATGCTCAAACACAAAAAACTGTCCCGCC...TAG')}\n",
            "{'id': 'NZ_CP022699.1', 'description': 'NZ_CP022699.1 Acetobacter tropicalis strain BDGP1 chromosome, complete genome', 'TonB-dependent receptor': Seq('TAGAATGACAAATTAGCTCGTGCGTAATAAAACCCGCCATTAAAACCCATCTGA...CAT'), 'LysR family transcriptional regulator': Seq('CACTGCAAGTCTTTGGGCAACTCACCAATAACTTCCTTCACTCTATCAAGAAAA...CAT'), 'helix-turn-helix domain-containing protein': Seq('TACCCTCCTGTCCGGCATGATAGCATGGCCTGTTTCCATGCCGCACAGGCGGGC...GAT'), 'efflux transporter outer membrane subunit': Seq('TAAATATTTAAATCTTTTTTCTTTGTGGGCATTGCCGTAAAACCTCCACCAGTC...CAT')}\n",
            "{'id': 'NZ_CP014687.1', 'description': 'NZ_CP014687.1 Acetobacter persici strain TMW2.1084 chromosome, complete genome', 'TonB-dependent receptor': Seq('TAGAACGAGGTGCTGACTGTACCAAAAAACTCGCGCACGGCACCGCGTTCCATG...CAC'), 'LysR family transcriptional regulator': Seq('CACACAGCGACGTTTTCAAAAACCTTTCGGGAGACCCGGAAGAGTGTTTCCCGC...CAT'), 'helix-turn-helix domain-containing protein': Seq('TGACGCCGTCACACCCGCGTCAGGACAATTTTCTCGACGAACAACTGCTCACTA...TGA'), 'efflux transporter outer membrane subunit': Seq('TGAAGCATTTCCCTCTCCGCCCGTCTTCTCGCCGCCTGAGTATCCTGCTGGCCC...TGA')}\n",
            "{'id': 'NZ_LN606600.1', 'description': 'NZ_LN606600.1 Acetobacter senegalensis strain 108B chromosome I, complete sequence', 'TonB-dependent receptor': Seq('TGGGCGTGTACCCTCTGAGCCACGAGCCCCCCCGTGGTCTCTATAATAAAAAGC...TGA'), 'LysR family transcriptional regulator': Seq('CAGGCAGACTGCGGACAGCAGAGATTATCAAACTGCTGCCTGTAATCTATTGCC...CAT'), 'helix-turn-helix domain-containing protein': Seq('TGCCCCCAAAACCCGAGATTCCGAGCTTTCTGACATATGGCATCAACACAAAAA...TGA'), 'efflux transporter outer membrane subunit': Seq('TGAAACCCATCTTCTCCCGTCCGCTTTCTCGTCGCCTGGGTATCCTGCTGGCGC...TAA')}\n",
            "{'id': 'NZ_CP011120.1', 'description': 'NZ_CP011120.1 Acetobacter oryzifermentans strain SLV-7 chromosome, complete genome', 'TonB-dependent receptor': Seq('TAAAAACCTTGGGAAATCCCGCCCAGAATGGTGCGGCGCAGCCCATATTGCGGG...CAT'), 'LysR family transcriptional regulator': Seq('TGACGGCACGAGTAAGACTGACATTGCGGCTAGATGCAGATGGTAAGCCTGCGT...TGA'), 'helix-turn-helix domain-containing protein': Seq('TATCTGGATACGCTCATTGTTTGCATAAGCTCAAGAATTTTTCGGCGCATTTGC...CAC'), 'efflux transporter outer membrane subunit': Seq('TGACGCATTTTTCCGCATCCCGTCAGTCGCGCCTGTATCGTCAAGTTGCATGTC...TAA')}\n",
            "{'id': 'NZ_CP015164.1', 'description': 'NZ_CP015164.1 Acetobacter ascendens strain LMG 1590 chromosome, complete genome', 'TonB-dependent receptor': Seq('TGGCCTGCGCGCTGGCTTCTGGCACGCTGCTTTCTGGTATGGCGTGGCCGGTTG...TAG'), 'LysR family transcriptional regulator': Seq('TGCATTCTCAAACTGAGAACAGGCAAATGAACCCATTTTCGCGCTTTCTGATCT...TGA'), 'helix-turn-helix domain-containing protein': Seq('TGCTGATGGCTGAAAACGCCCCAAGTTCTGAACAGGAGCAGCCGGCTGCTCTGC...TAG'), 'efflux transporter outer membrane subunit': Seq('TGAAGCGTCTTCTTCTTTCCGGCTTATCTGTGCTGGTGCTTTCTGGCTGCACAG...TAA')}\n",
            "{'id': 'NZ_CP015168.1', 'description': 'NZ_CP015168.1 Acetobacter ascendens strain LMG 1591 chromosome, complete genome', 'TonB-dependent receptor': Seq('TAAAACCCGCAGGAAACACGGCCCCCAACAAAGCGTGGCTCACCGGGAATATAG...CAT'), 'LysR family transcriptional regulator': Seq('TAGTCTGTCTCGGATGGGCAAATAGTGTTGATAAACCTGCGCAGCAAAGGTTTT...CAT'), 'helix-turn-helix domain-containing protein': Seq('TGATCGAAGAGACGCAAAGGCCGGTCTATGCCTCTATTTCAGGCATCATGACCG...TAA'), 'efflux transporter outer membrane subunit': Seq('TACTGTTTGAAGGCACGGGCAAGGAAATTCTGTGTTTCAAGCGAAACAGGTAAG...CAT')}\n",
            "{'id': 'NZ_CP021524.1', 'description': 'NZ_CP021524.1 Acetobacter ascendens strain SRCM101447 chromosome, complete genome', 'TonB-dependent receptor': Seq('TGAAAGAAAACCTCGCCCTTCCAACGTTCAGGAACAACTCTCGTCTGCGGGGTG...TGA'), 'LysR family transcriptional regulator': Seq('TATGAACTGCTCTTCGGTCCTCTATATAAAACAGACTCCGAGGCACATAGGCGT...CAT'), 'helix-turn-helix domain-containing protein': Seq('TAGTGCGAACCCATGCCCTGAAGCTGGCGCGCATTCAAATCATCAGCGCTTGGT...CAT'), 'efflux transporter outer membrane subunit': Seq('TGGTTTCGCCTTCTTTTTCCAGCATGATGCTCAAACACAAAAAACTGTCCCGCC...TAG')}\n",
            "{'id': 'NZ_CP022374.1', 'description': 'NZ_CP022374.1 Acetobacter oryzifermentans strain dm chromosome, complete genome', 'TonB-dependent receptor': Seq('TAAAAACCTTGGGAAATCCCGCCCAGAATGGTGCGGCGCAGCCCATATTGCGGG...CAT'), 'LysR family transcriptional regulator': Seq('TGACGGCACGAGTAAGACTGACATTGCGGCTAGATGCAGATGGTAAGCCTGCGT...TGA'), 'helix-turn-helix domain-containing protein': Seq('TATCTGGATACGCTCATTGTTTGCATAAGCTCAAGAATTTTTCGGCGCATTTGC...CAC'), 'efflux transporter outer membrane subunit': Seq('TGACGCATTTTTCCGCATCCCGTCAGTCGCGCCTGTATCGTCAAGTTGCATGTC...TAA')}\n",
            "{'id': 'NZ_AP018515.1', 'description': 'NZ_AP018515.1 Acetobacter orientalis strain FAN1 chromosome, complete genome', 'TonB-dependent receptor': Seq('TAGAAAGAAACCGAGAGCGTGCCGGTCATATTAAAGCGTGGGTACAGGTAATAA...CAT'), 'LysR family transcriptional regulator': Seq('TATTTTTCTGCCCATGGAGGCCGTTCAAATGCCTGCATCAAATACTCAAGTAAC...CAT'), 'helix-turn-helix domain-containing protein': Seq('CATACCCCTTTGGGTAGCGTAGAGCCTCCATCTGCGGTTAGTTCTTCCAGGGCG...CAT'), 'efflux transporter outer membrane subunit': Seq('TATTGCTTAAAGGCCCGCGCTAACACGTTTTGTGTTTCAAGAGAAACGGGCAAC...CAT')}\n",
            "{'id': 'NZ_CP023189.1', 'description': 'NZ_CP023189.1 Acetobacter pomorum strain SH chromosome, complete genome', 'TonB-dependent receptor': Seq('TGCCCGGCTCTGGCACGCACAACAGCGCCCCAGGTCATGGGTTGCCCCCAATGT...TAA'), 'LysR family transcriptional regulator': Seq('CAGGTCGAGCAGAGTTGCCGGACGTGTTCCCGCAACCAGCGATGCACGGGGTCA...CAT'), 'helix-turn-helix domain-containing protein': Seq('TTAGCGCCCTAGCGCAGAGATGGGATTGCTCACCAACCAAGATCCGCAGAATGG...TAG'), 'efflux transporter outer membrane subunit': Seq('TGCAAGGGCTGGTATTTTCTATCAGGCATATCATTTTCGGTGAGGGTGAACGGG...TGA')}\n",
            "{'id': 'NC_017100.1', 'description': 'NC_017100.1 Acetobacter pasteurianus IFO 3283-03, complete sequence', 'TonB-dependent receptor': Seq('TGCGCCTAAAAACCCTTTTGCTTACCGGCTCTTCCCTGTTGCTGGTAGAAACCA...TGA'), 'LysR family transcriptional regulator': Seq('TGACGGCACGAGTAAGACTGACATTGCGGCTAGATGCAGATGGTAAGCCTGCGT...TGA'), 'helix-turn-helix domain-containing protein': Seq('TATTTGGGGTTGCTCATTGTTAGCATAAGCTCAAGAATTTTTCGGCGCATTTGC...CAC'), 'efflux transporter outer membrane subunit': Seq('TGACGCATTTTTCCGCATCACGTCAGTCGCGCTTGTATCGTCAGGTTGCATGTT...TAA')}\n",
            "{'id': 'NC_017121.1', 'description': 'NC_017121.1 Acetobacter pasteurianus IFO 3283-07, complete sequence', 'TonB-dependent receptor': Seq('TGCGCCTAAAAACCCTTTTGCTTACCGGCTCTTCCCTGTTGCTGGTAGAAACCA...TGA'), 'LysR family transcriptional regulator': Seq('TGACGGCACGAGTAAGACTGACATTGCGGCTAGATGCAGATGGTAAGCCTGCGT...TGA'), 'helix-turn-helix domain-containing protein': Seq('TATTTGGGGTTGCTCATTGTTAGCATAAGCTCAAGAATTTTTCGGCGCATTTGC...CAC'), 'efflux transporter outer membrane subunit': Seq('TGACGCATTTTTCCGCATCACGTCAGTCGCGCTTGTATCGTCAGGTTGCATGTT...TAA')}\n",
            "{'id': 'NC_017125.1', 'description': 'NC_017125.1 Acetobacter pasteurianus IFO 3283-22, complete sequence', 'TonB-dependent receptor': Seq('TGCGCCTAAAAACCCTTTTGCTTACCGGCTCTTCCCTGTTGCTGGTAGAAACCA...TGA'), 'LysR family transcriptional regulator': Seq('TGACGGCACGAGTAAGACTGACATTGCGGCTAGATGCAGATGGTAAGCCTGCGT...TGA'), 'helix-turn-helix domain-containing protein': Seq('TATTTGGGGTTGCTCATTGTTAGCATAAGCTCAAGAATTTTTCGGCGCATTTGC...CAC'), 'efflux transporter outer membrane subunit': Seq('TGACGCATTTTTCCGCATCACGTCAGTCGCGCTTGTATCGTCAGGTTGCATGTT...TAA')}\n",
            "{'id': 'NC_017146.1', 'description': 'NC_017146.1 Acetobacter pasteurianus IFO 3283-26, complete sequence', 'TonB-dependent receptor': Seq('TGCGCCTAAAAACCCTTTTGCTTACCGGCTCTTCCCTGTTGCTGGTAGAAACCA...TGA'), 'LysR family transcriptional regulator': Seq('TGACGGCACGAGTAAGACTGACATTGCGGCTAGATGCAGATGGTAAGCCTGCGT...TGA'), 'helix-turn-helix domain-containing protein': Seq('TATTTGGGGTTGCTCATTGTTAGCATAAGCTCAAGAATTTTTCGGCGCATTTGC...CAC'), 'efflux transporter outer membrane subunit': Seq('TGACGCATTTTTCCGCATCACGTCAGTCGCGCTTGTATCGTCAGGTTGCATGTT...TAA')}\n",
            "{'id': 'NZ_LN609302.1', 'description': 'NZ_LN609302.1 Acetobacter ghanensis strain LMG 23848T chromosome I', 'TonB-dependent receptor': Seq('CAGAAATCCTTGCGAAGCACAAAGCCGCCGTAACGCCCGTAATCACGCGGGATG...CAT'), 'LysR family transcriptional regulator': Seq('TGCTTGACCGTTTCACCAGTATGCAGGTTTTTGTTAAGGTGGTGCAGGTTGGCA...TAA'), 'helix-turn-helix domain-containing protein': Seq('CAAAGGGTCGCCTTTTCGGCCGGAGTCAGCGGGCGGGCGGGGAAAACACGGCAG...CAT'), 'efflux transporter outer membrane subunit': Seq('TAGGTATGCTTGGTCTGGGTTTGCGGGAAGGTTGTCTCCCATCCACCACCCAGC...TAT')}\n",
            "{'id': 'NC_017111.1', 'description': 'NC_017111.1 Acetobacter pasteurianus IFO 3283-32, complete sequence', 'TonB-dependent receptor': Seq('TGCGCCTAAAAACCCTTTTGCTTACCGGCTCTTCCCTGTTGCTGGTAGAAACCA...TGA'), 'LysR family transcriptional regulator': Seq('TGACGGCACGAGTAAGACTGACATTGCGGCTAGATGCAGATGGTAAGCCTGCGT...TGA'), 'helix-turn-helix domain-containing protein': Seq('TATTTGGGGTTGCTCATTGTTAGCATAAGCTCAAGAATTTTTCGGCGCATTTGC...CAC'), 'efflux transporter outer membrane subunit': Seq('TGACGCATTTTTCCGCATCACGTCAGTCGCGCTTGTATCGTCAGGTTGCATGTT...TAA')}\n",
            "{'id': 'NC_017150.1', 'description': 'NC_017150.1 Acetobacter pasteurianus IFO 3283-01-42C, complete sequence', 'TonB-dependent receptor': Seq('TGCGCCTAAAAACCCTTTTGCTTACCGGCTCTTCCCTGTTGCTGGTAGAAACCA...TGA'), 'LysR family transcriptional regulator': Seq('TGACGGCACGAGTAAGACTGACATTGCGGCTAGATGCAGATGGTAAGCCTGCGT...TGA'), 'helix-turn-helix domain-containing protein': Seq('TATTTGGGGTTGCTCATTGTTAGCATAAGCTCAAGAATTTTTCGGCGCATTTGC...CAC'), 'efflux transporter outer membrane subunit': Seq('TGACGCATTTTTCCGCATCACGTCAGTCGCGCTTGTATCGTCAGGTTGCATGTT...TAA')}\n",
            "{'id': 'NC_017108.1', 'description': 'NC_017108.1 Acetobacter pasteurianus IFO 3283-12, complete sequence', 'TonB-dependent receptor': Seq('TGCGCCTAAAAACCCTTTTGCTTACCGGCTCTTCCCTGTTGCTGGTAGAAACCA...TGA'), 'LysR family transcriptional regulator': Seq('TGACGGCACGAGTAAGACTGACATTGCGGCTAGATGCAGATGGTAAGCCTGCGT...TGA'), 'helix-turn-helix domain-containing protein': Seq('TATTTGGGGTTGCTCATTGTTAGCATAAGCTCAAGAATTTTTCGGCGCATTTGC...CAC'), 'efflux transporter outer membrane subunit': Seq('TGACGCATTTTTCCGCATCACGTCAGTCGCGCTTGTATCGTCAGGTTGCATGTT...TAA')}\n",
            "{'id': 'NZ_AP014881.1', 'description': 'NZ_AP014881.1 Acetobacter pasteurianus NBRC 101655 DNA, complete genome', 'TonB-dependent receptor': Seq('TGCGCCTAAAAACCCTTTTGCTTACCGGCTCTTCCCTGTTGCTGGTAGAAACCA...TGA'), 'LysR family transcriptional regulator': Seq('TGACGGCACGAGTAAGACTGACATTGCGGCTAGATGCAGATGGTAAGCCTGCGT...TGA'), 'helix-turn-helix domain-containing protein': Seq('TATTTGGGGTTGCTCATTGTTAGCATAAGCTCAAGAATTTTTCGGCGCATTTGC...CAC'), 'efflux transporter outer membrane subunit': Seq('TGACGCATTTTTCCGCATCACGTCAGTCGCGCTTGTATCGTCAGGTTGCATGTT...TAA')}\n"
          ]
        }
      ]
    },
    {
      "cell_type": "code",
      "source": [
        "print(homogeneus_gene_seq)"
      ],
      "metadata": {
        "id": "a5Zg4EC1YQOd",
        "colab": {
          "base_uri": "https://localhost:8080/"
        },
        "outputId": "f5f76717-ffc2-48e0-a1b2-ddf13f7ebc5a"
      },
      "execution_count": 12,
      "outputs": [
        {
          "output_type": "stream",
          "name": "stdout",
          "text": [
            "[{'Bacteria': 'NZ_CP014692.1 ', 'TonB-dependent receptor': Seq('TAAAACCGCTGCGAAATGCCTGTCAGAATGGTCCGTCTCAGCCCGTACTGAGGC...CAT'), 'LysR family transcriptional regulator': Seq('TGCAGGGCGAAGCCAGCGATCTGAGATTTTTCATCAACCTCGTCGATGCGGGGA...TGA'), 'helix-turn-helix domain-containing protein': Seq('TGGGTCTGTTCGGCACCATTAAACCCGGGCTGAGGAAATCTCAGGCGGCTATTC...TGA'), 'efflux transporter outer membrane subunit': Seq('CATGAGGGCGTTTTCCTGTTGGCTGACGCCGGGTAGATGGTTTCCCAGCCGCCT...CAA')}, {'Bacteria': 'NZ_CP023657.1', 'TonB-dependent receptor': Seq('TGTCCTTTCGGATTATTGCGCCGTCCCGCCCAGTTTTGTCCCGACTGACATACC...TAA'), 'LysR family transcriptional regulator': Seq('TATGCTGACCCAAGGCGACCCGCCATAAAGTCAACAAAAGCTCGGATTTTGGGT...CAT'), 'helix-turn-helix domain-containing protein': Seq('TGTTCGACAGACACACGCCGTCAACGGCGCGCTACCTGCGCACTCATGAAGCCG...TGA'), 'efflux transporter outer membrane subunit': Seq('TGGTTTCGCCTTCTTTTTCCAGCATGATGCTCAAACACAAAAAACTGTCCCGCC...TAG')}, {'Bacteria': 'NZ_CP022699.1', 'TonB-dependent receptor': Seq('TAGAATGACAAATTAGCTCGTGCGTAATAAAACCCGCCATTAAAACCCATCTGA...CAT'), 'LysR family transcriptional regulator': Seq('CACTGCAAGTCTTTGGGCAACTCACCAATAACTTCCTTCACTCTATCAAGAAAA...CAT'), 'helix-turn-helix domain-containing protein': Seq('TACCCTCCTGTCCGGCATGATAGCATGGCCTGTTTCCATGCCGCACAGGCGGGC...GAT'), 'efflux transporter outer membrane subunit': Seq('TAAATATTTAAATCTTTTTTCTTTGTGGGCATTGCCGTAAAACCTCCACCAGTC...CAT')}, {'Bacteria': 'NZ_CP014687.1', 'TonB-dependent receptor': Seq('TAGAACGAGGTGCTGACTGTACCAAAAAACTCGCGCACGGCACCGCGTTCCATG...CAC'), 'LysR family transcriptional regulator': Seq('CACACAGCGACGTTTTCAAAAACCTTTCGGGAGACCCGGAAGAGTGTTTCCCGC...CAT'), 'helix-turn-helix domain-containing protein': Seq('TGACGCCGTCACACCCGCGTCAGGACAATTTTCTCGACGAACAACTGCTCACTA...TGA'), 'efflux transporter outer membrane subunit': Seq('TGAAGCATTTCCCTCTCCGCCCGTCTTCTCGCCGCCTGAGTATCCTGCTGGCCC...TGA')}, {'Bacteria': 'NZ_LN606600.1', 'TonB-dependent receptor': Seq('TGGGCGTGTACCCTCTGAGCCACGAGCCCCCCCGTGGTCTCTATAATAAAAAGC...TGA'), 'LysR family transcriptional regulator': Seq('CAGGCAGACTGCGGACAGCAGAGATTATCAAACTGCTGCCTGTAATCTATTGCC...CAT'), 'helix-turn-helix domain-containing protein': Seq('TGCCCCCAAAACCCGAGATTCCGAGCTTTCTGACATATGGCATCAACACAAAAA...TGA'), 'efflux transporter outer membrane subunit': Seq('TGAAACCCATCTTCTCCCGTCCGCTTTCTCGTCGCCTGGGTATCCTGCTGGCGC...TAA')}, {'Bacteria': 'NZ_CP011120.1', 'TonB-dependent receptor': Seq('TAAAAACCTTGGGAAATCCCGCCCAGAATGGTGCGGCGCAGCCCATATTGCGGG...CAT'), 'LysR family transcriptional regulator': Seq('TGACGGCACGAGTAAGACTGACATTGCGGCTAGATGCAGATGGTAAGCCTGCGT...TGA'), 'helix-turn-helix domain-containing protein': Seq('TATCTGGATACGCTCATTGTTTGCATAAGCTCAAGAATTTTTCGGCGCATTTGC...CAC'), 'efflux transporter outer membrane subunit': Seq('TGACGCATTTTTCCGCATCCCGTCAGTCGCGCCTGTATCGTCAAGTTGCATGTC...TAA')}, {'Bacteria': 'NZ_CP015164.1', 'TonB-dependent receptor': Seq('TGGCCTGCGCGCTGGCTTCTGGCACGCTGCTTTCTGGTATGGCGTGGCCGGTTG...TAG'), 'LysR family transcriptional regulator': Seq('TGCATTCTCAAACTGAGAACAGGCAAATGAACCCATTTTCGCGCTTTCTGATCT...TGA'), 'helix-turn-helix domain-containing protein': Seq('TGCTGATGGCTGAAAACGCCCCAAGTTCTGAACAGGAGCAGCCGGCTGCTCTGC...TAG'), 'efflux transporter outer membrane subunit': Seq('TGAAGCGTCTTCTTCTTTCCGGCTTATCTGTGCTGGTGCTTTCTGGCTGCACAG...TAA')}, {'Bacteria': 'NZ_CP015168.1', 'TonB-dependent receptor': Seq('TAAAACCCGCAGGAAACACGGCCCCCAACAAAGCGTGGCTCACCGGGAATATAG...CAT'), 'LysR family transcriptional regulator': Seq('TAGTCTGTCTCGGATGGGCAAATAGTGTTGATAAACCTGCGCAGCAAAGGTTTT...CAT'), 'helix-turn-helix domain-containing protein': Seq('TGATCGAAGAGACGCAAAGGCCGGTCTATGCCTCTATTTCAGGCATCATGACCG...TAA'), 'efflux transporter outer membrane subunit': Seq('TACTGTTTGAAGGCACGGGCAAGGAAATTCTGTGTTTCAAGCGAAACAGGTAAG...CAT')}, {'Bacteria': 'NZ_CP021524.1', 'TonB-dependent receptor': Seq('TGAAAGAAAACCTCGCCCTTCCAACGTTCAGGAACAACTCTCGTCTGCGGGGTG...TGA'), 'LysR family transcriptional regulator': Seq('TATGAACTGCTCTTCGGTCCTCTATATAAAACAGACTCCGAGGCACATAGGCGT...CAT'), 'helix-turn-helix domain-containing protein': Seq('TAGTGCGAACCCATGCCCTGAAGCTGGCGCGCATTCAAATCATCAGCGCTTGGT...CAT'), 'efflux transporter outer membrane subunit': Seq('TGGTTTCGCCTTCTTTTTCCAGCATGATGCTCAAACACAAAAAACTGTCCCGCC...TAG')}, {'Bacteria': 'NZ_CP022374.1', 'TonB-dependent receptor': Seq('TAAAAACCTTGGGAAATCCCGCCCAGAATGGTGCGGCGCAGCCCATATTGCGGG...CAT'), 'LysR family transcriptional regulator': Seq('TGACGGCACGAGTAAGACTGACATTGCGGCTAGATGCAGATGGTAAGCCTGCGT...TGA'), 'helix-turn-helix domain-containing protein': Seq('TATCTGGATACGCTCATTGTTTGCATAAGCTCAAGAATTTTTCGGCGCATTTGC...CAC'), 'efflux transporter outer membrane subunit': Seq('TGACGCATTTTTCCGCATCCCGTCAGTCGCGCCTGTATCGTCAAGTTGCATGTC...TAA')}, {'Bacteria': 'NZ_AP018515.1', 'TonB-dependent receptor': Seq('TAGAAAGAAACCGAGAGCGTGCCGGTCATATTAAAGCGTGGGTACAGGTAATAA...CAT'), 'LysR family transcriptional regulator': Seq('TATTTTTCTGCCCATGGAGGCCGTTCAAATGCCTGCATCAAATACTCAAGTAAC...CAT'), 'helix-turn-helix domain-containing protein': Seq('CATACCCCTTTGGGTAGCGTAGAGCCTCCATCTGCGGTTAGTTCTTCCAGGGCG...CAT'), 'efflux transporter outer membrane subunit': Seq('TATTGCTTAAAGGCCCGCGCTAACACGTTTTGTGTTTCAAGAGAAACGGGCAAC...CAT')}, {'Bacteria': 'NZ_CP023189.1', 'TonB-dependent receptor': Seq('TGCCCGGCTCTGGCACGCACAACAGCGCCCCAGGTCATGGGTTGCCCCCAATGT...TAA'), 'LysR family transcriptional regulator': Seq('CAGGTCGAGCAGAGTTGCCGGACGTGTTCCCGCAACCAGCGATGCACGGGGTCA...CAT'), 'helix-turn-helix domain-containing protein': Seq('TTAGCGCCCTAGCGCAGAGATGGGATTGCTCACCAACCAAGATCCGCAGAATGG...TAG'), 'efflux transporter outer membrane subunit': Seq('TGCAAGGGCTGGTATTTTCTATCAGGCATATCATTTTCGGTGAGGGTGAACGGG...TGA')}, {'Bacteria': 'NC_017100.1', 'TonB-dependent receptor': Seq('TGCGCCTAAAAACCCTTTTGCTTACCGGCTCTTCCCTGTTGCTGGTAGAAACCA...TGA'), 'LysR family transcriptional regulator': Seq('TGACGGCACGAGTAAGACTGACATTGCGGCTAGATGCAGATGGTAAGCCTGCGT...TGA'), 'helix-turn-helix domain-containing protein': Seq('TATTTGGGGTTGCTCATTGTTAGCATAAGCTCAAGAATTTTTCGGCGCATTTGC...CAC'), 'efflux transporter outer membrane subunit': Seq('TGACGCATTTTTCCGCATCACGTCAGTCGCGCTTGTATCGTCAGGTTGCATGTT...TAA')}, {'Bacteria': 'NC_017121.1', 'TonB-dependent receptor': Seq('TGCGCCTAAAAACCCTTTTGCTTACCGGCTCTTCCCTGTTGCTGGTAGAAACCA...TGA'), 'LysR family transcriptional regulator': Seq('TGACGGCACGAGTAAGACTGACATTGCGGCTAGATGCAGATGGTAAGCCTGCGT...TGA'), 'helix-turn-helix domain-containing protein': Seq('TATTTGGGGTTGCTCATTGTTAGCATAAGCTCAAGAATTTTTCGGCGCATTTGC...CAC'), 'efflux transporter outer membrane subunit': Seq('TGACGCATTTTTCCGCATCACGTCAGTCGCGCTTGTATCGTCAGGTTGCATGTT...TAA')}, {'Bacteria': 'NC_017125.1', 'TonB-dependent receptor': Seq('TGCGCCTAAAAACCCTTTTGCTTACCGGCTCTTCCCTGTTGCTGGTAGAAACCA...TGA'), 'LysR family transcriptional regulator': Seq('TGACGGCACGAGTAAGACTGACATTGCGGCTAGATGCAGATGGTAAGCCTGCGT...TGA'), 'helix-turn-helix domain-containing protein': Seq('TATTTGGGGTTGCTCATTGTTAGCATAAGCTCAAGAATTTTTCGGCGCATTTGC...CAC'), 'efflux transporter outer membrane subunit': Seq('TGACGCATTTTTCCGCATCACGTCAGTCGCGCTTGTATCGTCAGGTTGCATGTT...TAA')}, {'Bacteria': 'NC_017146.1', 'TonB-dependent receptor': Seq('TGCGCCTAAAAACCCTTTTGCTTACCGGCTCTTCCCTGTTGCTGGTAGAAACCA...TGA'), 'LysR family transcriptional regulator': Seq('TGACGGCACGAGTAAGACTGACATTGCGGCTAGATGCAGATGGTAAGCCTGCGT...TGA'), 'helix-turn-helix domain-containing protein': Seq('TATTTGGGGTTGCTCATTGTTAGCATAAGCTCAAGAATTTTTCGGCGCATTTGC...CAC'), 'efflux transporter outer membrane subunit': Seq('TGACGCATTTTTCCGCATCACGTCAGTCGCGCTTGTATCGTCAGGTTGCATGTT...TAA')}, {'Bacteria': 'NZ_LN609302.1', 'TonB-dependent receptor': Seq('CAGAAATCCTTGCGAAGCACAAAGCCGCCGTAACGCCCGTAATCACGCGGGATG...CAT'), 'LysR family transcriptional regulator': Seq('TGCTTGACCGTTTCACCAGTATGCAGGTTTTTGTTAAGGTGGTGCAGGTTGGCA...TAA'), 'helix-turn-helix domain-containing protein': Seq('CAAAGGGTCGCCTTTTCGGCCGGAGTCAGCGGGCGGGCGGGGAAAACACGGCAG...CAT'), 'efflux transporter outer membrane subunit': Seq('TAGGTATGCTTGGTCTGGGTTTGCGGGAAGGTTGTCTCCCATCCACCACCCAGC...TAT')}, {'Bacteria': 'NC_017111.1', 'TonB-dependent receptor': Seq('TGCGCCTAAAAACCCTTTTGCTTACCGGCTCTTCCCTGTTGCTGGTAGAAACCA...TGA'), 'LysR family transcriptional regulator': Seq('TGACGGCACGAGTAAGACTGACATTGCGGCTAGATGCAGATGGTAAGCCTGCGT...TGA'), 'helix-turn-helix domain-containing protein': Seq('TATTTGGGGTTGCTCATTGTTAGCATAAGCTCAAGAATTTTTCGGCGCATTTGC...CAC'), 'efflux transporter outer membrane subunit': Seq('TGACGCATTTTTCCGCATCACGTCAGTCGCGCTTGTATCGTCAGGTTGCATGTT...TAA')}, {'Bacteria': 'NC_017150.1', 'TonB-dependent receptor': Seq('TGCGCCTAAAAACCCTTTTGCTTACCGGCTCTTCCCTGTTGCTGGTAGAAACCA...TGA'), 'LysR family transcriptional regulator': Seq('TGACGGCACGAGTAAGACTGACATTGCGGCTAGATGCAGATGGTAAGCCTGCGT...TGA'), 'helix-turn-helix domain-containing protein': Seq('TATTTGGGGTTGCTCATTGTTAGCATAAGCTCAAGAATTTTTCGGCGCATTTGC...CAC'), 'efflux transporter outer membrane subunit': Seq('TGACGCATTTTTCCGCATCACGTCAGTCGCGCTTGTATCGTCAGGTTGCATGTT...TAA')}, {'Bacteria': 'NC_017108.1', 'TonB-dependent receptor': Seq('TGCGCCTAAAAACCCTTTTGCTTACCGGCTCTTCCCTGTTGCTGGTAGAAACCA...TGA'), 'LysR family transcriptional regulator': Seq('TGACGGCACGAGTAAGACTGACATTGCGGCTAGATGCAGATGGTAAGCCTGCGT...TGA'), 'helix-turn-helix domain-containing protein': Seq('TATTTGGGGTTGCTCATTGTTAGCATAAGCTCAAGAATTTTTCGGCGCATTTGC...CAC'), 'efflux transporter outer membrane subunit': Seq('TGACGCATTTTTCCGCATCACGTCAGTCGCGCTTGTATCGTCAGGTTGCATGTT...TAA')}, {'Bacteria': 'NZ_AP014881.1', 'TonB-dependent receptor': Seq('TGCGCCTAAAAACCCTTTTGCTTACCGGCTCTTCCCTGTTGCTGGTAGAAACCA...TGA'), 'LysR family transcriptional regulator': Seq('TGACGGCACGAGTAAGACTGACATTGCGGCTAGATGCAGATGGTAAGCCTGCGT...TGA'), 'helix-turn-helix domain-containing protein': Seq('TATTTGGGGTTGCTCATTGTTAGCATAAGCTCAAGAATTTTTCGGCGCATTTGC...CAC'), 'efflux transporter outer membrane subunit': Seq('TGACGCATTTTTCCGCATCACGTCAGTCGCGCTTGTATCGTCAGGTTGCATGTT...TAA')}]\n"
          ]
        }
      ]
    },
    {
      "cell_type": "code",
      "source": [
        "# Importing necessary libraries from BioPython\n",
        "from Bio import Phylo, AlignIO\n",
        "from Bio.Phylo.TreeConstruction import DistanceCalculator, DistanceTreeConstructor"
      ],
      "metadata": {
        "id": "jftsVn3JtlrN"
      },
      "execution_count": 37,
      "outputs": []
    },
    {
      "cell_type": "code",
      "source": [
        "for i in range(len(homogeneus_gene_seq)):\n",
        "  tonb_seq = homogeneus_gene_seq[i]['TonB-dependent receptor']\n",
        "  lysr_seq = homogeneus_gene_seq[i]['LysR family transcriptional regulator']\n",
        "  helix_seq = homogeneus_gene_seq[i]['helix-turn-helix domain-containing protein']\n",
        "  efflux_seq = homogeneus_gene_seq[i]['efflux transporter outer membrane subunit']\n",
        "  print(len(tonb_seq),len(lysr_seq),len(helix_seq),len(efflux_seq))"
      ],
      "metadata": {
        "colab": {
          "base_uri": "https://localhost:8080/"
        },
        "id": "ir3Xs7i4uD2B",
        "outputId": "27ceff51-9a21-4dae-da61-9d2aea58e9a5"
      },
      "execution_count": 38,
      "outputs": [
        {
          "output_type": "stream",
          "name": "stdout",
          "text": [
            "2252 941 2213 1523\n",
            "2339 887 251 1565\n",
            "2447 896 269 1436\n",
            "2414 923 275 1553\n",
            "3110 926 905 1577\n",
            "2246 365 494 1484\n",
            "2420 941 1280 1523\n",
            "2456 866 230 1529\n",
            "2135 911 1280 1565\n",
            "2246 365 494 1484\n",
            "2405 914 578 1514\n",
            "2210 893 263 1589\n",
            "2159 365 494 1484\n",
            "2159 365 494 1484\n",
            "2159 365 494 1484\n",
            "2159 365 494 1484\n",
            "2228 929 269 1568\n",
            "2159 365 494 1484\n",
            "2159 365 494 1484\n",
            "2159 365 494 1484\n",
            "2159 365 494 1484\n"
          ]
        }
      ]
    },
    {
      "cell_type": "code",
      "source": [
        "str_ = tonb_seq.encode()"
      ],
      "metadata": {
        "colab": {
          "base_uri": "https://localhost:8080/"
        },
        "id": "um0_PVeQu1ml",
        "outputId": "16c3551f-db78-40ba-ecf5-c76a69b6862e"
      },
      "execution_count": 50,
      "outputs": [
        {
          "output_type": "stream",
          "name": "stderr",
          "text": [
            "/usr/local/lib/python3.7/dist-packages/Bio/Seq.py:1774: BiopythonDeprecationWarning: myseq.encode has been deprecated; please use bytes(myseq) instead.\n",
            "  BiopythonDeprecationWarning,\n"
          ]
        }
      ]
    },
    {
      "cell_type": "code",
      "source": [
        "str_.decode()"
      ],
      "metadata": {
        "colab": {
          "base_uri": "https://localhost:8080/",
          "height": 227
        },
        "id": "9QRXUiTk1xm1",
        "outputId": "e6e0b497-b985-4a27-9995-50887e59a32f"
      },
      "execution_count": 51,
      "outputs": [
        {
          "output_type": "execute_result",
          "data": {
            "application/vnd.google.colaboratory.intrinsic+json": {
              "type": "string"
            },
            "text/plain": [
              "'TGCGCCTAAAAACCCTTTTGCTTACCGGCTCTTCCCTGTTGCTGGTAGAAACCACTGCCGCTATGGCCGCAGATGTTGCAAACCCCACCACATCAACGGGTAAAAATACCGTTGCTGCCAAAGTGGCTTCCACCGCTCCGGCGCAAAATGCGCCTGTTTCTACGGGGGCGGAGGGCACGCAGGCTGTGCAGGCCCGTAGCAGACAGGCTTACCCGGATTACGTTACGGTAAGTGCGGCACGCCACCCCATGCGGGCGGATGAAATTGGCACGGCCATGACGATCGTGACAGAAAAGCAGATACTCACCCAGCAGCGCCGTACGCTTACAGATATTCTGGCCCGCCAACCGGGGTTGAATGTGGTGCGCTCTGGCGGCTTTGGGGGCACCACCTCCATTTTCATGCGCGGCAACAATGCCAACGAGGTGAAAGTGCGGCTGGATGGCATGGATATTAACGATGGCAGTTCCACCTCTGGTGCGTTTGATGCCGCACAGTTTGTAACCGATGGCATGGGCCGCATAGAAATTTTGCGCGGGCCGCAAAGTGGCCTGTACGGGGCCGATGCCATGGCCGGGGTTATAGATATTACCACAGCACAGGGGCAGGGCAGGTTTACGCCTTTTGTGCGGGTGGAAGGTGGATCTTACGGCACGTTCAATCAGGTTATGGGCGCGCGGGGGAGCAAGGGAAAGTTCCATTACAATGTTGAACTTTCCCATTACCGGCAGGATGGTTTTCATGAAATCCCGCGCTATATCGGCCGCTATTTTGGCGCAGACAAGGAACAGCGCCACCGGGGGGATAGAAACGATAACCGTTCCGCCAACATTCGCTTGGGCTATGATATCACCCATAATTTTGATCTGGGGCTCACGGCCCGGCTGATACAGAGCAACCTGCACACCTACAGCGCCTATAATATGGAAGATGAATATTACAGTCGCCTAGGATATTACGGTGATGTGGGAAGCGAGCGTGAACACACCACGCAAAATCAGGCCATTGTGCGGGGCACGGCGCATCTGTCCTCCTTCGGGGGCAGGTTCGATCAGGTGATTGGTCTGGGGTATATGACAAGCCGCAGAAGCTGGACAGAAACCGGCACCACGCTGGAAGGCGATGCCTTGCAGTATGATCCCACATACTACCGCACCAGCCGCATTAAAATAGATTGGCACGGCACTGTTAATCTGGACAAATATGGATCTCTGCTTGTGGGGGCAGAGCATTTTCATGATACATTTAATTCCAGCCAAGGGAGCAGTGCGGCATCTTCCACACCCTTCAGCACCAGTGCTGGCATGGATACTACAGCGGGCTACGGGCAGTATCAGGGCAACTGGAACAAGATTTTATATGGCGCGGCCAATATCCGGTATGATGCCAATTCCCGCTACGGCAATTACGTGACGTGGCGCGTGGCTCCGGCCATTCATATTCCGCACAGCGGCACGGTTATCAAGGCCAGTGCGGGTAGCGGCTTTCATGGTCCTTCATTGTATCAGCTTTTTGCCAATCAGATTTCCACCAGCTATGCGGAAAAGGGTAACCCCAACCTGCGGGCCGAACGCCTGATAGGGTATGATGTGGGCGTGGAACAAACACTGGCGCATGATAAACTGCATTTTGGGGCCACATGGTATGAAAACCACGTGCGCAATCTTATCCAGTCCGTCAGCTCTTACGAAAACTACTATTCCACCTATTCCTACAATAACGTGGCCCGTGCGCGCATGTATGGCGTAGAAGCGTATCTGGACTGGAAAGCGCTGGATACGCTGGATTTCAACCTGAACTATACATGGACCCACGCGCGAGATGCCTCTACCGGGCAGGCCCTCCAGCGCCGCCCACAGCACAAGTTCAACTTCAACACCACATGGCAGCCGGTGGATGGGCTCTCGCTTTCGGGCAATATCCTGTATGTCAGCGGTTCGCGCGATACGCCGGTTATTTCCGATACGTACCAGTATTGCAGCACATGCGGCAAAGACCACGGATATTTCACCATAGATCTGGCGGCCAGTTATAAAATCAACCGCTATGTTACCGTGTTTGCGCGGGCGGATAACCTGCTCAACCGCCAGTATGAAAGCCCCATAGGCTACCTTCAGCCCGGCCGCGCAGGCTATGGCGGCTTTACACTGAATTACTGA'"
            ]
          },
          "metadata": {},
          "execution_count": 51
        }
      ]
    },
    {
      "cell_type": "code",
      "source": [
        "len(str_)"
      ],
      "metadata": {
        "colab": {
          "base_uri": "https://localhost:8080/"
        },
        "id": "xSKwjp9m8PWH",
        "outputId": "d44e4917-384a-442d-eaaa-e3784d76dec5"
      },
      "execution_count": 49,
      "outputs": [
        {
          "output_type": "execute_result",
          "data": {
            "text/plain": [
              "2159"
            ]
          },
          "metadata": {},
          "execution_count": 49
        }
      ]
    },
    {
      "cell_type": "code",
      "source": [
        "file1 = open(\"/content/sample_data/MyFile.txt\",\"w\")"
      ],
      "metadata": {
        "id": "y3cLL8rpu_kX"
      },
      "execution_count": 65,
      "outputs": []
    },
    {
      "cell_type": "code",
      "source": [
        "#file1.write(str_.decode())"
      ],
      "metadata": {
        "id": "kBwuzhOL1RHc"
      },
      "execution_count": 66,
      "outputs": []
    },
    {
      "cell_type": "code",
      "source": [
        "for i in range(len(homogeneus_gene_seq)):\n",
        "  id = homogeneus_gene_seq[i]['id']\n",
        "  tonb_seq = homogeneus_gene_seq[i]['TonB-dependent receptor']\n",
        "  str_1 = tonb_seq.encode()\n",
        "  file1.write(\">\"+id+\"\\r\\n\")\n",
        "  file1.write(str_1.decode()+\"\\r\\n\")\n",
        "  #file1.write(\"\\n\")"
      ],
      "metadata": {
        "colab": {
          "base_uri": "https://localhost:8080/"
        },
        "id": "HINF-yc91ZpZ",
        "outputId": "be68a1fb-b6f0-4c13-b5d6-af7b022c1cac"
      },
      "execution_count": 67,
      "outputs": [
        {
          "output_type": "stream",
          "name": "stderr",
          "text": [
            "/usr/local/lib/python3.7/dist-packages/Bio/Seq.py:1774: BiopythonDeprecationWarning: myseq.encode has been deprecated; please use bytes(myseq) instead.\n",
            "  BiopythonDeprecationWarning,\n"
          ]
        }
      ]
    },
    {
      "cell_type": "code",
      "source": [
        ""
      ],
      "metadata": {
        "id": "vUSTrmu05K5E"
      },
      "execution_count": null,
      "outputs": []
    }
  ]
}